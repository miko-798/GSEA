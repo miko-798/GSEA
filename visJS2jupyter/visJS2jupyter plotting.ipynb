{
 "cells": [
  {
   "cell_type": "code",
   "execution_count": 51,
   "metadata": {
    "collapsed": true
   },
   "outputs": [],
   "source": [
    "import visJS2jupyter.visJS_module as visJS_module\n",
    "import networkx as nx\n",
    "import pandas as pd\n",
    "#from random import shuffle\n",
    "import matplotlib as plt\n",
    "\n",
    "expression_file = '/Users/Miko/Desktop/CCBB/Network/DE_ALCvsCHOWinNTinAlbCre_30_Liver.csv'"
   ]
  },
  {
   "cell_type": "code",
   "execution_count": 20,
   "metadata": {},
   "outputs": [
    {
     "data": {
      "text/html": [
       "<div>\n",
       "<style scoped>\n",
       "    .dataframe tbody tr th:only-of-type {\n",
       "        vertical-align: middle;\n",
       "    }\n",
       "\n",
       "    .dataframe tbody tr th {\n",
       "        vertical-align: top;\n",
       "    }\n",
       "\n",
       "    .dataframe thead th {\n",
       "        text-align: right;\n",
       "    }\n",
       "</style>\n",
       "<table border=\"1\" class=\"dataframe\">\n",
       "  <thead>\n",
       "    <tr style=\"text-align: right;\">\n",
       "      <th></th>\n",
       "      <th>Unnamed: 0</th>\n",
       "      <th>ENSEMBL</th>\n",
       "      <th>ENTREZID</th>\n",
       "      <th>SYMBOL</th>\n",
       "      <th>logFC</th>\n",
       "      <th>AveExpr</th>\n",
       "      <th>t</th>\n",
       "      <th>P.Value</th>\n",
       "      <th>adj.P.Val</th>\n",
       "      <th>B</th>\n",
       "    </tr>\n",
       "  </thead>\n",
       "  <tbody>\n",
       "    <tr>\n",
       "      <th>0</th>\n",
       "      <td>ENSMUSG00000020572</td>\n",
       "      <td>ENSMUSG00000020572</td>\n",
       "      <td>59027.0</td>\n",
       "      <td>Nampt</td>\n",
       "      <td>1.125802</td>\n",
       "      <td>6.422679</td>\n",
       "      <td>9.234130</td>\n",
       "      <td>2.848587e-07</td>\n",
       "      <td>0.002271</td>\n",
       "      <td>7.163066</td>\n",
       "    </tr>\n",
       "    <tr>\n",
       "      <th>1</th>\n",
       "      <td>ENSMUSG00000039157</td>\n",
       "      <td>ENSMUSG00000039157</td>\n",
       "      <td>98952.0</td>\n",
       "      <td>Fam102a</td>\n",
       "      <td>1.246930</td>\n",
       "      <td>5.079990</td>\n",
       "      <td>8.650189</td>\n",
       "      <td>6.184195e-07</td>\n",
       "      <td>0.002271</td>\n",
       "      <td>6.391317</td>\n",
       "    </tr>\n",
       "    <tr>\n",
       "      <th>2</th>\n",
       "      <td>ENSMUSG00000025277</td>\n",
       "      <td>ENSMUSG00000025277</td>\n",
       "      <td>66082.0</td>\n",
       "      <td>Abhd6</td>\n",
       "      <td>0.926458</td>\n",
       "      <td>5.173920</td>\n",
       "      <td>8.577569</td>\n",
       "      <td>6.827854e-07</td>\n",
       "      <td>0.002271</td>\n",
       "      <td>6.312529</td>\n",
       "    </tr>\n",
       "    <tr>\n",
       "      <th>3</th>\n",
       "      <td>ENSMUSG00000028327</td>\n",
       "      <td>ENSMUSG00000028327</td>\n",
       "      <td>74152.0</td>\n",
       "      <td>Stra6l</td>\n",
       "      <td>-0.944380</td>\n",
       "      <td>7.534265</td>\n",
       "      <td>-8.528602</td>\n",
       "      <td>7.301721e-07</td>\n",
       "      <td>0.002271</td>\n",
       "      <td>6.280035</td>\n",
       "    </tr>\n",
       "    <tr>\n",
       "      <th>4</th>\n",
       "      <td>ENSMUSG00000059743</td>\n",
       "      <td>ENSMUSG00000059743</td>\n",
       "      <td>110196.0</td>\n",
       "      <td>Fdps</td>\n",
       "      <td>-2.847604</td>\n",
       "      <td>6.298790</td>\n",
       "      <td>-8.342241</td>\n",
       "      <td>9.449679e-07</td>\n",
       "      <td>0.002271</td>\n",
       "      <td>6.023082</td>\n",
       "    </tr>\n",
       "  </tbody>\n",
       "</table>\n",
       "</div>"
      ],
      "text/plain": [
       "           Unnamed: 0             ENSEMBL  ENTREZID   SYMBOL     logFC  \\\n",
       "0  ENSMUSG00000020572  ENSMUSG00000020572   59027.0    Nampt  1.125802   \n",
       "1  ENSMUSG00000039157  ENSMUSG00000039157   98952.0  Fam102a  1.246930   \n",
       "2  ENSMUSG00000025277  ENSMUSG00000025277   66082.0    Abhd6  0.926458   \n",
       "3  ENSMUSG00000028327  ENSMUSG00000028327   74152.0   Stra6l -0.944380   \n",
       "4  ENSMUSG00000059743  ENSMUSG00000059743  110196.0     Fdps -2.847604   \n",
       "\n",
       "    AveExpr         t       P.Value  adj.P.Val         B  \n",
       "0  6.422679  9.234130  2.848587e-07   0.002271  7.163066  \n",
       "1  5.079990  8.650189  6.184195e-07   0.002271  6.391317  \n",
       "2  5.173920  8.577569  6.827854e-07   0.002271  6.312529  \n",
       "3  7.534265 -8.528602  7.301721e-07   0.002271  6.280035  \n",
       "4  6.298790 -8.342241  9.449679e-07   0.002271  6.023082  "
      ]
     },
     "execution_count": 20,
     "metadata": {},
     "output_type": "execute_result"
    }
   ],
   "source": [
    "df_exp = pd.read_csv(expression_file)\n",
    "df_exp.head()"
   ]
  },
  {
   "cell_type": "code",
   "execution_count": 35,
   "metadata": {},
   "outputs": [
    {
     "data": {
      "text/plain": [
       "['Nampt', 'Fam102a', 'Abhd6', 'Stra6l', 'Fdps', 'Slc30a10']"
      ]
     },
     "execution_count": 35,
     "metadata": {},
     "output_type": "execute_result"
    }
   ],
   "source": [
    "nodes = df_exp['SYMBOL'][:6].tolist()\n",
    "nodes"
   ]
  },
  {
   "cell_type": "code",
   "execution_count": 36,
   "metadata": {},
   "outputs": [],
   "source": [
    "#shuffled_nodes = nodes\n",
    "#shuffle(shuffled_nodes)\n",
    "#print(shuffled_nodes)"
   ]
  },
  {
   "cell_type": "code",
   "execution_count": 39,
   "metadata": {
    "scrolled": true
   },
   "outputs": [
    {
     "data": {
      "text/plain": [
       "[('Nampt', 'Fdps'),\n",
       " ('Fam102a', 'Fam102a'),\n",
       " ('Abhd6', 'Slc30a10'),\n",
       " ('Stra6l', 'Nampt'),\n",
       " ('Fdps', 'Stra6l'),\n",
       " ('Slc30a10', 'Abhd6')]"
      ]
     },
     "execution_count": 39,
     "metadata": {},
     "output_type": "execute_result"
    }
   ],
   "source": [
    "edges = zip(nodes,set(nodes))   # zip: make a list of tuples\n",
    "edges"
   ]
  },
  {
   "cell_type": "code",
   "execution_count": 40,
   "metadata": {},
   "outputs": [
    {
     "data": {
      "text/plain": [
       "<networkx.classes.digraph.DiGraph at 0x1516e2e850>"
      ]
     },
     "execution_count": 40,
     "metadata": {},
     "output_type": "execute_result"
    }
   ],
   "source": [
    "G = nx.DiGraph(edges)  # directed graph, graph, multigraph, multidigraph (see info on capitalization)\n",
    "G"
   ]
  },
  {
   "cell_type": "code",
   "execution_count": 58,
   "metadata": {},
   "outputs": [
    {
     "data": {
      "text/plain": [
       "[1.1258015211796,\n",
       " 1.24693029679367,\n",
       " 0.926458273250296,\n",
       " -0.9443797200726941,\n",
       " -2.8476037979404105,\n",
       " -1.60502843244584]"
      ]
     },
     "execution_count": 58,
     "metadata": {},
     "output_type": "execute_result"
    }
   ],
   "source": [
    "LF = df_exp['logFC'][0:6].tolist()\n",
    "LF"
   ]
  },
  {
   "cell_type": "code",
   "execution_count": 42,
   "metadata": {},
   "outputs": [
    {
     "data": {
      "text/plain": [
       "{'Abhd6': 0.926458273250296,\n",
       " 'Fam102a': 1.24693029679367,\n",
       " 'Fdps': -2.8476037979404105,\n",
       " 'Nampt': 1.1258015211796,\n",
       " 'Slc30a10': -1.60502843244584,\n",
       " 'Stra6l': -0.9443797200726941}"
      ]
     },
     "execution_count": 42,
     "metadata": {},
     "output_type": "execute_result"
    }
   ],
   "source": [
    "nodes_to_LF = dict(zip(nodes, LF)) \n",
    "nodes_to_LF"
   ]
  },
  {
   "cell_type": "code",
   "execution_count": 44,
   "metadata": {},
   "outputs": [],
   "source": [
    "nx.set_node_attributes(G, name = 'fold_change', values = nodes_to_LF) # nodes have to be comprehensive"
   ]
  },
  {
   "cell_type": "code",
   "execution_count": 47,
   "metadata": {},
   "outputs": [
    {
     "data": {
      "text/plain": [
       "[('Fdps', {'fold_change': -2.8476037979404105}),\n",
       " ('Fam102a', {'fold_change': 1.24693029679367}),\n",
       " ('Slc30a10', {'fold_change': -1.60502843244584}),\n",
       " ('Nampt', {'fold_change': 1.1258015211796}),\n",
       " ('Stra6l', {'fold_change': -0.9443797200726941}),\n",
       " ('Abhd6', {'fold_change': 0.926458273250296})]"
      ]
     },
     "execution_count": 47,
     "metadata": {},
     "output_type": "execute_result"
    }
   ],
   "source": [
    "list(G.nodes(data = True)) #nodes with attributes\n",
    "#list(G.nodes())\n",
    "#list(G.edges())"
   ]
  },
  {
   "cell_type": "code",
   "execution_count": 76,
   "metadata": {},
   "outputs": [],
   "source": [
    "#define initial positions\n",
    "pos = nx.spring_layout(G)\n",
    "# spread out\n",
    "node_spacing = 10\n",
    "#color of nodes, mapping dict: base the node color by LF\n",
    "node_to_color = visJS_module.return_node_to_color(G, field_to_map = 'fold_change', cmap = plt.cm.cool)\n",
    "\n",
    "node_to_size = {node:20 for node in G.nodes()} #MAKE dict\n",
    "\n",
    "outline_list = list(G.nodes())[0:3] # always cast to list\n",
    "node_to_border_width = {node:2 if node in outline_list else 0 for node in list(G.nodes())}\n",
    "\n",
    "#shape\n",
    "star_list = list(G.nodes())[4:6]\n",
    "node_to_shape = {node:'star' if node in star_list else 'dot' for node in list(G.nodes())}\n",
    "\n",
    "nodes_dict = [{'id': n,  #node\n",
    "               'color': node_to_color[n],\n",
    "               'border_width': node_to_border_width[n],\n",
    "               'size_field': node_to_size[n],\n",
    "               'node_shape': node_to_shape[n],\n",
    "               'x': pos[n][0]*node_spacing,\n",
    "               'y': pos[n][1]*node_spacing} for n in list(G.nodes())]"
   ]
  },
  {
   "cell_type": "code",
   "execution_count": 70,
   "metadata": {},
   "outputs": [
    {
     "data": {
      "text/plain": [
       "'Fdps'"
      ]
     },
     "execution_count": 70,
     "metadata": {},
     "output_type": "execute_result"
    }
   ],
   "source": [
    "list(G.edges())[0][0]"
   ]
  },
  {
   "cell_type": "code",
   "execution_count": 77,
   "metadata": {
    "collapsed": true
   },
   "outputs": [],
   "source": [
    "node_map = dict(zip(list(G.nodes()), range(len(list(G.nodes())))))\n",
    "\n",
    "edges_dict = [{'source': node_map[list(G.edges())[i][0]],\n",
    "               'target': node_map[list(G.edges())[i][1]],\n",
    "               'color': 'purple'} for i in range(len(list(G.nodes())))]\n",
    "    "
   ]
  },
  {
   "cell_type": "code",
   "execution_count": 79,
   "metadata": {
    "scrolled": false
   },
   "outputs": [
    {
     "data": {
      "text/html": [
       "<!doctype html><html><head>  <title>Network | Basic usage</title></head><body><script type=\"text/javascript\">function setUpFrame() {     var frame = window.frames[\"style_file0\"];    frame.runVis([{\"node_shape\": \"dot\", \"degree\": 3.0, \"title\": \"Fdps\", \"color\": \"rgba(0, 256, 256, 1.0)\", \"size_field\": 20, \"y\": -3.788085859342668, \"x\": -6.660860833322864, \"border_width\": 2, \"id\": \"Fdps\"}, {\"node_shape\": \"dot\", \"degree\": 3.0, \"title\": \"Fam102a\", \"color\": \"rgba(256, 0, 256, 1.0)\", \"size_field\": 20, \"y\": 10.0, \"x\": -0.0285502959764158, \"border_width\": 2, \"id\": \"Fam102a\"}, {\"node_shape\": \"dot\", \"degree\": 3.0, \"title\": \"Slc30a10\", \"color\": \"rgba(0, 256, 256, 1.0)\", \"size_field\": 20, \"y\": -0.04107001275654948, \"x\": 9.24447838876446, \"border_width\": 2, \"id\": \"Slc30a10\"}, {\"node_shape\": \"dot\", \"degree\": 3.0, \"title\": \"Nampt\", \"color\": \"rgba(231, 24, 256, 1.0)\", \"size_field\": 20, \"y\": -2.1652379649761846, \"x\": -5.420255835727801, \"border_width\": 0, \"id\": \"Nampt\"}, {\"node_shape\": \"star\", \"degree\": 3.0, \"title\": \"Stra6l\", \"color\": \"rgba(0, 256, 256, 1.0)\", \"size_field\": 20, \"y\": -4.0447070700219525, \"x\": -4.509160633885817, \"border_width\": 0, \"id\": \"Stra6l\"}, {\"node_shape\": \"star\", \"degree\": 3.0, \"title\": \"Abhd6\", \"color\": \"rgba(190, 65, 256, 1.0)\", \"size_field\": 20, \"y\": 0.03910090709735746, \"x\": 7.374349210148441, \"border_width\": 0, \"id\": \"Abhd6\"}], [{\"color\": \"purple\", \"source\": 0, \"target\": 4}, {\"color\": \"purple\", \"source\": 1, \"target\": 1}, {\"color\": \"purple\", \"source\": 2, \"target\": 5}, {\"color\": \"purple\", \"source\": 3, \"target\": 0}, {\"color\": \"purple\", \"source\": 4, \"target\": 3}, {\"color\": \"purple\", \"source\": 5, \"target\": 2}]);}</script><iframe name=\"style_file0\" src=\"style_file0.html\" width=\"100%;\" height=\"805px\"></iframe></body></html>"
      ],
      "text/plain": [
       "<IPython.core.display.HTML object>"
      ]
     },
     "execution_count": 79,
     "metadata": {},
     "output_type": "execute_result"
    }
   ],
   "source": [
    "# display results\n",
    "visJS_module.visjs_network(nodes_dict,edges_dict, # the only required fields are nodes_dict and edges_dict\n",
    "                           \n",
    "                            # all-nodes settings\n",
    "                            node_color_highlight_border = 'black',\n",
    "                            node_color_hover_border = 'black',\n",
    "                            node_border_width = 5,\n",
    "                            node_border_width_selected = 0,\n",
    "                            node_size_multiplier = 10,\n",
    "                            node_size_field = 'size_field',\n",
    "                            node_font_size = 35,\n",
    "                            node_font_color = 'black',\n",
    "                            node_font_face = 'times new roman',\n",
    "                           \n",
    "                            # all-edges settings\n",
    "                            edge_arrow_to = True,\n",
    "                            edge_color_hover = 'blue',\n",
    "                            edge_color_highlight = 'orange',\n",
    "                            edge_width = 1.5,\n",
    "                            edge_hoverWidth = 5,\n",
    "                            edge_selection_width = 5,\n",
    "                           \n",
    "                            # general graph settings\n",
    "                            physics_enabled = True,\n",
    "                            graph_id = 0) # change graph id if displaying multiple graphs in the same notebook"
   ]
  },
  {
   "cell_type": "code",
   "execution_count": null,
   "metadata": {
    "collapsed": true
   },
   "outputs": [],
   "source": []
  }
 ],
 "metadata": {
  "kernelspec": {
   "display_name": "Python 2",
   "language": "python",
   "name": "python2"
  },
  "language_info": {
   "codemirror_mode": {
    "name": "ipython",
    "version": 2
   },
   "file_extension": ".py",
   "mimetype": "text/x-python",
   "name": "python",
   "nbconvert_exporter": "python",
   "pygments_lexer": "ipython2",
   "version": "2.7.14"
  }
 },
 "nbformat": 4,
 "nbformat_minor": 2
}
