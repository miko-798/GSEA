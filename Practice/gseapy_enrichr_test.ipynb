{
 "cells": [
  {
   "cell_type": "code",
   "execution_count": 1,
   "metadata": {
    "collapsed": true
   },
   "outputs": [],
   "source": [
    "import pandas as pd\n",
    "import gseapy as gp\n",
    "\n",
    "gmt_file = '/Users/Miko/Desktop/CCBB/Network/geneset.gmt'\n",
    "csv_file = '/Users/Miko/Desktop/CCBB/Network/DE_ALCvsCHOWinNTinAlbCre_30_Liver.csv'\n",
    "output_dir = '/Users/Miko/Desktop/CCBB/Network/enrichr_1'"
   ]
  },
  {
   "cell_type": "code",
   "execution_count": 3,
   "metadata": {},
   "outputs": [
    {
     "data": {
      "text/html": [
       "<div>\n",
       "<style scoped>\n",
       "    .dataframe tbody tr th:only-of-type {\n",
       "        vertical-align: middle;\n",
       "    }\n",
       "\n",
       "    .dataframe tbody tr th {\n",
       "        vertical-align: top;\n",
       "    }\n",
       "\n",
       "    .dataframe thead th {\n",
       "        text-align: right;\n",
       "    }\n",
       "</style>\n",
       "<table border=\"1\" class=\"dataframe\">\n",
       "  <thead>\n",
       "    <tr style=\"text-align: right;\">\n",
       "      <th></th>\n",
       "      <th>Unnamed: 0</th>\n",
       "      <th>ENSEMBL</th>\n",
       "      <th>ENTREZID</th>\n",
       "      <th>SYMBOL</th>\n",
       "      <th>logFC</th>\n",
       "      <th>AveExpr</th>\n",
       "      <th>t</th>\n",
       "      <th>P.Value</th>\n",
       "      <th>adj.P.Val</th>\n",
       "      <th>B</th>\n",
       "    </tr>\n",
       "  </thead>\n",
       "  <tbody>\n",
       "    <tr>\n",
       "      <th>0</th>\n",
       "      <td>ENSMUSG00000020572</td>\n",
       "      <td>ENSMUSG00000020572</td>\n",
       "      <td>59027.0</td>\n",
       "      <td>Nampt</td>\n",
       "      <td>1.125802</td>\n",
       "      <td>6.422679</td>\n",
       "      <td>9.234130</td>\n",
       "      <td>2.848587e-07</td>\n",
       "      <td>0.002271</td>\n",
       "      <td>7.163066</td>\n",
       "    </tr>\n",
       "    <tr>\n",
       "      <th>1</th>\n",
       "      <td>ENSMUSG00000039157</td>\n",
       "      <td>ENSMUSG00000039157</td>\n",
       "      <td>98952.0</td>\n",
       "      <td>Fam102a</td>\n",
       "      <td>1.246930</td>\n",
       "      <td>5.079990</td>\n",
       "      <td>8.650189</td>\n",
       "      <td>6.184195e-07</td>\n",
       "      <td>0.002271</td>\n",
       "      <td>6.391317</td>\n",
       "    </tr>\n",
       "    <tr>\n",
       "      <th>2</th>\n",
       "      <td>ENSMUSG00000025277</td>\n",
       "      <td>ENSMUSG00000025277</td>\n",
       "      <td>66082.0</td>\n",
       "      <td>Abhd6</td>\n",
       "      <td>0.926458</td>\n",
       "      <td>5.173920</td>\n",
       "      <td>8.577569</td>\n",
       "      <td>6.827854e-07</td>\n",
       "      <td>0.002271</td>\n",
       "      <td>6.312529</td>\n",
       "    </tr>\n",
       "    <tr>\n",
       "      <th>3</th>\n",
       "      <td>ENSMUSG00000028327</td>\n",
       "      <td>ENSMUSG00000028327</td>\n",
       "      <td>74152.0</td>\n",
       "      <td>Stra6l</td>\n",
       "      <td>-0.944380</td>\n",
       "      <td>7.534265</td>\n",
       "      <td>-8.528602</td>\n",
       "      <td>7.301721e-07</td>\n",
       "      <td>0.002271</td>\n",
       "      <td>6.280035</td>\n",
       "    </tr>\n",
       "    <tr>\n",
       "      <th>4</th>\n",
       "      <td>ENSMUSG00000059743</td>\n",
       "      <td>ENSMUSG00000059743</td>\n",
       "      <td>110196.0</td>\n",
       "      <td>Fdps</td>\n",
       "      <td>-2.847604</td>\n",
       "      <td>6.298790</td>\n",
       "      <td>-8.342241</td>\n",
       "      <td>9.449679e-07</td>\n",
       "      <td>0.002271</td>\n",
       "      <td>6.023082</td>\n",
       "    </tr>\n",
       "  </tbody>\n",
       "</table>\n",
       "</div>"
      ],
      "text/plain": [
       "           Unnamed: 0             ENSEMBL  ENTREZID   SYMBOL     logFC  \\\n",
       "0  ENSMUSG00000020572  ENSMUSG00000020572   59027.0    Nampt  1.125802   \n",
       "1  ENSMUSG00000039157  ENSMUSG00000039157   98952.0  Fam102a  1.246930   \n",
       "2  ENSMUSG00000025277  ENSMUSG00000025277   66082.0    Abhd6  0.926458   \n",
       "3  ENSMUSG00000028327  ENSMUSG00000028327   74152.0   Stra6l -0.944380   \n",
       "4  ENSMUSG00000059743  ENSMUSG00000059743  110196.0     Fdps -2.847604   \n",
       "\n",
       "    AveExpr         t       P.Value  adj.P.Val         B  \n",
       "0  6.422679  9.234130  2.848587e-07   0.002271  7.163066  \n",
       "1  5.079990  8.650189  6.184195e-07   0.002271  6.391317  \n",
       "2  5.173920  8.577569  6.827854e-07   0.002271  6.312529  \n",
       "3  7.534265 -8.528602  7.301721e-07   0.002271  6.280035  \n",
       "4  6.298790 -8.342241  9.449679e-07   0.002271  6.023082  "
      ]
     },
     "execution_count": 3,
     "metadata": {},
     "output_type": "execute_result"
    }
   ],
   "source": [
    "df = pd.read_csv(csv_file)\n",
    "df.head()"
   ]
  },
  {
   "cell_type": "code",
   "execution_count": 4,
   "metadata": {},
   "outputs": [
    {
     "data": {
      "text/plain": [
       "pandas.core.frame.DataFrame"
      ]
     },
     "execution_count": 4,
     "metadata": {},
     "output_type": "execute_result"
    }
   ],
   "source": [
    "type(df)"
   ]
  },
  {
   "cell_type": "code",
   "execution_count": 5,
   "metadata": {
    "scrolled": true
   },
   "outputs": [
    {
     "data": {
      "text/plain": [
       "0     59027.0\n",
       "1     98952.0\n",
       "2     66082.0\n",
       "3     74152.0\n",
       "4    110196.0\n",
       "Name: ENTREZID, dtype: float64"
      ]
     },
     "execution_count": 5,
     "metadata": {},
     "output_type": "execute_result"
    }
   ],
   "source": [
    "df['ENTREZID'].head()"
   ]
  },
  {
   "cell_type": "code",
   "execution_count": 9,
   "metadata": {},
   "outputs": [
    {
     "data": {
      "text/plain": [
       "0     59027.0\n",
       "1     98952.0\n",
       "2     66082.0\n",
       "3     74152.0\n",
       "4    110196.0\n",
       "Name: ENTREZID, dtype: float64"
      ]
     },
     "execution_count": 9,
     "metadata": {},
     "output_type": "execute_result"
    }
   ],
   "source": [
    "g_list = df['ENTREZID']\n",
    "g_list.head()"
   ]
  },
  {
   "cell_type": "code",
   "execution_count": 10,
   "metadata": {},
   "outputs": [
    {
     "data": {
      "text/plain": [
       "pandas.core.series.Series"
      ]
     },
     "execution_count": 10,
     "metadata": {},
     "output_type": "execute_result"
    }
   ],
   "source": [
    "type(g_list)"
   ]
  },
  {
   "cell_type": "code",
   "execution_count": 13,
   "metadata": {},
   "outputs": [
    {
     "name": "stdout",
     "output_type": "stream",
     "text": [
      "[59027.0, 98952.0, 66082.0, 74152.0, 110196.0, 226781.0, 68603.0, 23945.0, 12753.0, 18631.0]\n"
     ]
    }
   ],
   "source": [
    "# convert dataframe or series to list\n",
    "genelist = g_list.squeeze().tolist()\n",
    "print(genelist[:10])"
   ]
  },
  {
   "cell_type": "code",
   "execution_count": 14,
   "metadata": {},
   "outputs": [
    {
     "name": "stdout",
     "output_type": "stream",
     "text": [
      "Hint: use get_library_name() to veiw full list of supported names"
     ]
    },
    {
     "name": "stderr",
     "output_type": "stream",
     "text": [
      "/Users/Miko/Desktop/CCBB/Network/geneset.gmt is not a enrichr library name\n"
     ]
    },
    {
     "ename": "SystemExit",
     "evalue": "1",
     "output_type": "error",
     "traceback": [
      "An exception has occurred, use %tb to see the full traceback.\n",
      "\u001b[0;31mSystemExit\u001b[0m\u001b[0;31m:\u001b[0m 1\n"
     ]
    },
    {
     "name": "stderr",
     "output_type": "stream",
     "text": [
      "/Users/Miko/anaconda/lib/python2.7/site-packages/IPython/core/interactiveshell.py:2889: UserWarning: To exit: use 'exit', 'quit', or Ctrl-D.\n",
      "  warn(\"To exit: use 'exit', 'quit', or Ctrl-D.\", stacklevel=1)\n"
     ]
    }
   ],
   "source": [
    "# run enrichr\n",
    "# if you are only intrested in dataframe that enrichr returned, please set no_plot=True\n",
    "\n",
    "# list, dataframe, series inputs are supported\n",
    "enr = gp.enrichr(gene_list=genelist,\n",
    "                 # or gene_list='./gene_list.txt', or gene_list=glist\n",
    "                 description='enrichr_test1',\n",
    "                 gene_sets=gmt_file,\n",
    "                 outdir=output_dir,\n",
    "                 cutoff=0.5 # test dataset, use lower value of range(0,1)\n",
    "                )"
   ]
  },
  {
   "cell_type": "code",
   "execution_count": null,
   "metadata": {
    "collapsed": true
   },
   "outputs": [],
   "source": [
    "# access results throught res2d attr\n",
    "enr.res2d.head()"
   ]
  },
  {
   "cell_type": "code",
   "execution_count": 17,
   "metadata": {},
   "outputs": [
    {
     "data": {
      "text/plain": [
       "[u'ARCHS4_Cell-lines',\n",
       " u'ARCHS4_IDG_Coexp',\n",
       " u'ARCHS4_Kinases_Coexp',\n",
       " u'ARCHS4_TFs_Coexp',\n",
       " u'ARCHS4_Tissues',\n",
       " u'Achilles_fitness_decrease',\n",
       " u'Achilles_fitness_increase',\n",
       " u'Aging_Perturbations_from_GEO_down',\n",
       " u'Aging_Perturbations_from_GEO_up',\n",
       " u'Allen_Brain_Atlas_down',\n",
       " u'Allen_Brain_Atlas_up',\n",
       " u'BioCarta_2013',\n",
       " u'BioCarta_2015',\n",
       " u'BioCarta_2016',\n",
       " u'BioPlex_2017',\n",
       " u'CORUM',\n",
       " u'Cancer_Cell_Line_Encyclopedia',\n",
       " u'ChEA_2013',\n",
       " u'ChEA_2015',\n",
       " u'ChEA_2016',\n",
       " u'Chromosome_Location',\n",
       " u'Disease_Perturbations_from_GEO_down',\n",
       " u'Disease_Perturbations_from_GEO_up',\n",
       " u'Disease_Signatures_from_GEO_down_2014',\n",
       " u'Disease_Signatures_from_GEO_up_2014',\n",
       " u'DrugMatrix',\n",
       " u'Drug_Perturbations_from_GEO_2014',\n",
       " u'Drug_Perturbations_from_GEO_down',\n",
       " u'Drug_Perturbations_from_GEO_up',\n",
       " u'ENCODE_Histone_Modifications_2013',\n",
       " u'ENCODE_Histone_Modifications_2015',\n",
       " u'ENCODE_TF_ChIP-seq_2014',\n",
       " u'ENCODE_TF_ChIP-seq_2015',\n",
       " u'ENCODE_and_ChEA_Consensus_TFs_from_ChIP-X',\n",
       " u'ESCAPE',\n",
       " u'Enrichr_Libraries_Most_Popular_Genes',\n",
       " u'Enrichr_Submissions_TF-Gene_Coocurrence',\n",
       " u'Epigenomics_Roadmap_HM_ChIP-seq',\n",
       " u'GO_Biological_Process_2013',\n",
       " u'GO_Biological_Process_2015',\n",
       " u'GO_Biological_Process_2017',\n",
       " u'GO_Biological_Process_2017b',\n",
       " u'GO_Cellular_Component_2013',\n",
       " u'GO_Cellular_Component_2015',\n",
       " u'GO_Cellular_Component_2017',\n",
       " u'GO_Cellular_Component_2017b',\n",
       " u'GO_Molecular_Function_2013',\n",
       " u'GO_Molecular_Function_2015',\n",
       " u'GO_Molecular_Function_2017',\n",
       " u'GO_Molecular_Function_2017b',\n",
       " u'GTEx_Tissue_Sample_Gene_Expression_Profiles_down',\n",
       " u'GTEx_Tissue_Sample_Gene_Expression_Profiles_up',\n",
       " u'GeneSigDB',\n",
       " u'Genes_Associated_with_NIH_Grants',\n",
       " u'Genome_Browser_PWMs',\n",
       " u'HMDB_Metabolites',\n",
       " u'HomoloGene',\n",
       " u'HumanCyc_2015',\n",
       " u'Human_Gene_Atlas',\n",
       " u'Human_Phenotype_Ontology',\n",
       " u'Humancyc_2016',\n",
       " u'Jensen_COMPARTMENTS',\n",
       " u'Jensen_DISEASES',\n",
       " u'Jensen_TISSUES',\n",
       " u'KEA_2013',\n",
       " u'KEA_2015',\n",
       " u'KEGG_2013',\n",
       " u'KEGG_2015',\n",
       " u'KEGG_2016',\n",
       " u'Kinase_Perturbations_from_GEO_down',\n",
       " u'Kinase_Perturbations_from_GEO_up',\n",
       " u'LINCS_L1000_Chem_Pert_down',\n",
       " u'LINCS_L1000_Chem_Pert_up',\n",
       " u'LINCS_L1000_Kinase_Perturbations_down',\n",
       " u'LINCS_L1000_Kinase_Perturbations_up',\n",
       " u'LINCS_L1000_Ligand_Perturbations_down',\n",
       " u'LINCS_L1000_Ligand_Perturbations_up',\n",
       " u'Ligand_Perturbations_from_GEO_down',\n",
       " u'Ligand_Perturbations_from_GEO_up',\n",
       " u'MCF7_Perturbations_from_GEO_down',\n",
       " u'MCF7_Perturbations_from_GEO_up',\n",
       " u'MGI_Mammalian_Phenotype_2013',\n",
       " u'MGI_Mammalian_Phenotype_2017',\n",
       " u'MGI_Mammalian_Phenotype_Level_3',\n",
       " u'MGI_Mammalian_Phenotype_Level_4',\n",
       " u'MSigDB_Computational',\n",
       " u'MSigDB_Oncogenic_Signatures',\n",
       " u'Microbe_Perturbations_from_GEO_down',\n",
       " u'Microbe_Perturbations_from_GEO_up',\n",
       " u'Mouse_Gene_Atlas',\n",
       " u'NCI-60_Cancer_Cell_Lines',\n",
       " u'NCI-Nature_2015',\n",
       " u'NCI-Nature_2016',\n",
       " u'NURSA_Human_Endogenous_Complexome',\n",
       " u'OMIM_Disease',\n",
       " u'OMIM_Expanded',\n",
       " u'Old_CMAP_down',\n",
       " u'Old_CMAP_up',\n",
       " u'PPI_Hub_Proteins',\n",
       " u'Panther_2015',\n",
       " u'Panther_2016',\n",
       " u'Pfam_InterPro_Domains',\n",
       " u'Phosphatase_Substrates_from_DEPOD',\n",
       " u'RNA-Seq_Disease_Gene_and_Drug_Signatures_from_GEO',\n",
       " u'Reactome_2013',\n",
       " u'Reactome_2015',\n",
       " u'Reactome_2016',\n",
       " u'SILAC_Phosphoproteomics',\n",
       " u'Single_Gene_Perturbations_from_GEO_down',\n",
       " u'Single_Gene_Perturbations_from_GEO_up',\n",
       " u'SysMyo_Muscle_Gene_Sets',\n",
       " u'TF-LOF_Expression_from_GEO',\n",
       " u'TRANSFAC_and_JASPAR_PWMs',\n",
       " u'TargetScan_microRNA',\n",
       " u'TargetScan_microRNA_2017',\n",
       " u'Tissue_Protein_Expression_from_Human_Proteome_Map',\n",
       " u'Tissue_Protein_Expression_from_ProteomicsDB',\n",
       " u'Transcription_Factor_PPIs',\n",
       " u'VirusMINT',\n",
       " u'Virus_Perturbations_from_GEO_down',\n",
       " u'Virus_Perturbations_from_GEO_up',\n",
       " u'WikiPathways_2013',\n",
       " u'WikiPathways_2015',\n",
       " u'WikiPathways_2016',\n",
       " u'dbGaP',\n",
       " u'huMAP',\n",
       " u'miRTarBase_2017']"
      ]
     },
     "execution_count": 17,
     "metadata": {},
     "output_type": "execute_result"
    }
   ],
   "source": [
    "gp.get_library_name()"
   ]
  },
  {
   "cell_type": "code",
   "execution_count": null,
   "metadata": {
    "collapsed": true
   },
   "outputs": [],
   "source": []
  }
 ],
 "metadata": {
  "kernelspec": {
   "display_name": "Python 2",
   "language": "python",
   "name": "python2"
  },
  "language_info": {
   "codemirror_mode": {
    "name": "ipython",
    "version": 2
   },
   "file_extension": ".py",
   "mimetype": "text/x-python",
   "name": "python",
   "nbconvert_exporter": "python",
   "pygments_lexer": "ipython2",
   "version": "2.7.14"
  }
 },
 "nbformat": 4,
 "nbformat_minor": 2
}
