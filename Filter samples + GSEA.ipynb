{
 "cells": [
  {
   "cell_type": "markdown",
   "metadata": {},
   "source": [
    "### This notebook modifies the meta_file so it matches the samples in the expression_file, then filters it again by only keeping the samples that satisfy the \"controls\" (so GSEA compares the samples differed only by the class_name).\n",
    "\n",
    "### Dataframe samp_to_class (cls file for GSEA) is made, according to the class_name specified by the user.\n",
    "\n",
    "### Expression_file is filtered so its samples match those in the meta_file.\n",
    "\n",
    "### Benefits:\n",
    "### 1. Correctly matches the samples in expression_file and meta_file; \n",
    "### 2. Keep other conditions the same (by specifying controls) when comparing results for a certain class;\n",
    "### 3. User can specify the class name and the controls\n"
   ]
  },
  {
   "cell_type": "code",
   "execution_count": 1,
   "metadata": {},
   "outputs": [
    {
     "name": "stdout",
     "output_type": "stream",
     "text": [
      "{'mouse genotype': 'Alb-Cre;IL-17RA-flox/flox', 'Model': 'DEN ', 'Treatment': 'DEN_HFD_alcohol'}\n"
     ]
    }
   ],
   "source": [
    "import pandas as pd\n",
    "import numpy as np\n",
    "import gseapy as gp\n",
    "\n",
    "gmt_file = '/Users/Miko/Desktop/CCBB/Network/gmt/c2.cp.v6.1.symbols.gmt'\n",
    "expression_file = '/Users/Miko/Desktop/CCBB/Network/mouse_liver/RNA_cpm_all_samples.tsv'\n",
    "meta_file = \"/Users/Miko/Desktop/CCBB/Network/mouse_liver/dHEP_metadata.csv\"\n",
    "output_dir = '/Users/Miko/Desktop/CCBB/Network/output/by_tissue_w_0'\n",
    "\n",
    "# ONLY compare the samples differed by the class_name, \n",
    "# while keeping all other parameters the same\n",
    "class_name = 'Tissue'  #'Treatment' \n",
    "class_A = 'Liver'  #'DEN_HFD_alcohol'\n",
    "class_B = 'liver_tumor'  #'DEN_only'\n",
    "\n",
    "# User types in the controls (attributes that remain constant)\n",
    "controls = {\n",
    "    'mouse genotype': 'Alb-Cre;IL-17RA-flox/flox',\n",
    "    'Model': 'DEN ',  ### There is a space at the end\n",
    "    'Treatment': 'DEN_HFD_alcohol'}\n",
    "print controls"
   ]
  },
  {
   "cell_type": "code",
   "execution_count": 2,
   "metadata": {},
   "outputs": [
    {
     "data": {
      "text/html": [
       "<div>\n",
       "<style scoped>\n",
       "    .dataframe tbody tr th:only-of-type {\n",
       "        vertical-align: middle;\n",
       "    }\n",
       "\n",
       "    .dataframe tbody tr th {\n",
       "        vertical-align: top;\n",
       "    }\n",
       "\n",
       "    .dataframe thead th {\n",
       "        text-align: right;\n",
       "    }\n",
       "</style>\n",
       "<table border=\"1\" class=\"dataframe\">\n",
       "  <thead>\n",
       "    <tr style=\"text-align: right;\">\n",
       "      <th></th>\n",
       "      <th>dHEP_549_A_T</th>\n",
       "      <th>dHEP_520_A_NT</th>\n",
       "      <th>dHEP_178_NI</th>\n",
       "      <th>F_F_167_NC_T</th>\n",
       "      <th>dHEP_550_A_NT</th>\n",
       "      <th>F_F_158_NC_NT</th>\n",
       "      <th>dHEP_549_A_NT</th>\n",
       "      <th>dHEP_520_A_T</th>\n",
       "      <th>F_F_169_NC_T</th>\n",
       "      <th>F_F_503_A_T1</th>\n",
       "      <th>...</th>\n",
       "      <th>dHEP_164_NC_NT</th>\n",
       "      <th>F_F_523_A_T1</th>\n",
       "      <th>F_F_184_NI</th>\n",
       "      <th>dHEP_155_NC_NT</th>\n",
       "      <th>F_F_159_NC_NT</th>\n",
       "      <th>dHEP_165_NC_T</th>\n",
       "      <th>dHEP_155_NC_T</th>\n",
       "      <th>F_F_168_NC_T</th>\n",
       "      <th>F_F_595_A_T</th>\n",
       "      <th>F_F_581_A_NT</th>\n",
       "    </tr>\n",
       "  </thead>\n",
       "  <tbody>\n",
       "    <tr>\n",
       "      <th>Gnai3</th>\n",
       "      <td>121.519560</td>\n",
       "      <td>89.035979</td>\n",
       "      <td>94.557437</td>\n",
       "      <td>113.223446</td>\n",
       "      <td>98.230254</td>\n",
       "      <td>111.136707</td>\n",
       "      <td>97.474351</td>\n",
       "      <td>132.836892</td>\n",
       "      <td>109.328840</td>\n",
       "      <td>114.096305</td>\n",
       "      <td>...</td>\n",
       "      <td>113.769663</td>\n",
       "      <td>132.891660</td>\n",
       "      <td>109.728700</td>\n",
       "      <td>106.096154</td>\n",
       "      <td>103.304758</td>\n",
       "      <td>192.471416</td>\n",
       "      <td>153.176144</td>\n",
       "      <td>183.460817</td>\n",
       "      <td>152.620839</td>\n",
       "      <td>108.366033</td>\n",
       "    </tr>\n",
       "    <tr>\n",
       "      <th>NaN</th>\n",
       "      <td>0.000000</td>\n",
       "      <td>0.000000</td>\n",
       "      <td>0.000000</td>\n",
       "      <td>0.000000</td>\n",
       "      <td>0.000000</td>\n",
       "      <td>0.000000</td>\n",
       "      <td>0.000000</td>\n",
       "      <td>0.000000</td>\n",
       "      <td>0.000000</td>\n",
       "      <td>0.000000</td>\n",
       "      <td>...</td>\n",
       "      <td>0.000000</td>\n",
       "      <td>0.000000</td>\n",
       "      <td>0.000000</td>\n",
       "      <td>0.000000</td>\n",
       "      <td>0.000000</td>\n",
       "      <td>0.000000</td>\n",
       "      <td>0.000000</td>\n",
       "      <td>0.000000</td>\n",
       "      <td>0.000000</td>\n",
       "      <td>0.000000</td>\n",
       "    </tr>\n",
       "    <tr>\n",
       "      <th>Cdc45</th>\n",
       "      <td>1.958903</td>\n",
       "      <td>1.673062</td>\n",
       "      <td>1.196930</td>\n",
       "      <td>2.630385</td>\n",
       "      <td>1.766455</td>\n",
       "      <td>1.086912</td>\n",
       "      <td>0.898758</td>\n",
       "      <td>2.300206</td>\n",
       "      <td>1.993288</td>\n",
       "      <td>1.984284</td>\n",
       "      <td>...</td>\n",
       "      <td>2.222064</td>\n",
       "      <td>1.612585</td>\n",
       "      <td>0.693510</td>\n",
       "      <td>1.687041</td>\n",
       "      <td>1.777031</td>\n",
       "      <td>1.688346</td>\n",
       "      <td>4.976438</td>\n",
       "      <td>4.123100</td>\n",
       "      <td>1.531535</td>\n",
       "      <td>1.943865</td>\n",
       "    </tr>\n",
       "    <tr>\n",
       "      <th>NaN</th>\n",
       "      <td>0.067548</td>\n",
       "      <td>0.072742</td>\n",
       "      <td>0.108812</td>\n",
       "      <td>0.233812</td>\n",
       "      <td>0.153605</td>\n",
       "      <td>0.000000</td>\n",
       "      <td>0.000000</td>\n",
       "      <td>0.287526</td>\n",
       "      <td>0.241611</td>\n",
       "      <td>0.631363</td>\n",
       "      <td>...</td>\n",
       "      <td>0.000000</td>\n",
       "      <td>0.293197</td>\n",
       "      <td>0.077057</td>\n",
       "      <td>0.000000</td>\n",
       "      <td>0.000000</td>\n",
       "      <td>0.135068</td>\n",
       "      <td>0.238221</td>\n",
       "      <td>0.056104</td>\n",
       "      <td>0.000000</td>\n",
       "      <td>0.065916</td>\n",
       "    </tr>\n",
       "    <tr>\n",
       "      <th>Apoh</th>\n",
       "      <td>1484.443494</td>\n",
       "      <td>1381.221548</td>\n",
       "      <td>1823.576617</td>\n",
       "      <td>1170.813440</td>\n",
       "      <td>1223.001220</td>\n",
       "      <td>1827.370055</td>\n",
       "      <td>1292.413480</td>\n",
       "      <td>886.585618</td>\n",
       "      <td>1267.127294</td>\n",
       "      <td>1078.638506</td>\n",
       "      <td>...</td>\n",
       "      <td>1497.374679</td>\n",
       "      <td>1145.375110</td>\n",
       "      <td>1898.753434</td>\n",
       "      <td>1567.636285</td>\n",
       "      <td>1727.570680</td>\n",
       "      <td>1453.395562</td>\n",
       "      <td>627.533836</td>\n",
       "      <td>1003.480178</td>\n",
       "      <td>1232.619699</td>\n",
       "      <td>1349.697628</td>\n",
       "    </tr>\n",
       "  </tbody>\n",
       "</table>\n",
       "<p>5 rows × 30 columns</p>\n",
       "</div>"
      ],
      "text/plain": [
       "       dHEP_549_A_T  dHEP_520_A_NT  dHEP_178_NI  F_F_167_NC_T  dHEP_550_A_NT  \\\n",
       "Gnai3    121.519560      89.035979    94.557437    113.223446      98.230254   \n",
       "NaN        0.000000       0.000000     0.000000      0.000000       0.000000   \n",
       "Cdc45      1.958903       1.673062     1.196930      2.630385       1.766455   \n",
       "NaN        0.067548       0.072742     0.108812      0.233812       0.153605   \n",
       "Apoh    1484.443494    1381.221548  1823.576617   1170.813440    1223.001220   \n",
       "\n",
       "       F_F_158_NC_NT  dHEP_549_A_NT  dHEP_520_A_T  F_F_169_NC_T  F_F_503_A_T1  \\\n",
       "Gnai3     111.136707      97.474351    132.836892    109.328840    114.096305   \n",
       "NaN         0.000000       0.000000      0.000000      0.000000      0.000000   \n",
       "Cdc45       1.086912       0.898758      2.300206      1.993288      1.984284   \n",
       "NaN         0.000000       0.000000      0.287526      0.241611      0.631363   \n",
       "Apoh     1827.370055    1292.413480    886.585618   1267.127294   1078.638506   \n",
       "\n",
       "           ...       dHEP_164_NC_NT  F_F_523_A_T1   F_F_184_NI  \\\n",
       "Gnai3      ...           113.769663    132.891660   109.728700   \n",
       "NaN        ...             0.000000      0.000000     0.000000   \n",
       "Cdc45      ...             2.222064      1.612585     0.693510   \n",
       "NaN        ...             0.000000      0.293197     0.077057   \n",
       "Apoh       ...          1497.374679   1145.375110  1898.753434   \n",
       "\n",
       "       dHEP_155_NC_NT  F_F_159_NC_NT  dHEP_165_NC_T  dHEP_155_NC_T  \\\n",
       "Gnai3      106.096154     103.304758     192.471416     153.176144   \n",
       "NaN          0.000000       0.000000       0.000000       0.000000   \n",
       "Cdc45        1.687041       1.777031       1.688346       4.976438   \n",
       "NaN          0.000000       0.000000       0.135068       0.238221   \n",
       "Apoh      1567.636285    1727.570680    1453.395562     627.533836   \n",
       "\n",
       "       F_F_168_NC_T  F_F_595_A_T  F_F_581_A_NT  \n",
       "Gnai3    183.460817   152.620839    108.366033  \n",
       "NaN        0.000000     0.000000      0.000000  \n",
       "Cdc45      4.123100     1.531535      1.943865  \n",
       "NaN        0.056104     0.000000      0.065916  \n",
       "Apoh    1003.480178  1232.619699   1349.697628  \n",
       "\n",
       "[5 rows x 30 columns]"
      ]
     },
     "execution_count": 2,
     "metadata": {},
     "output_type": "execute_result"
    }
   ],
   "source": [
    "df_expression = pd.read_table(expression_file, index_col='Unnamed: 0')\n",
    "df_expression.head()"
   ]
  },
  {
   "cell_type": "code",
   "execution_count": 3,
   "metadata": {},
   "outputs": [
    {
     "data": {
      "text/plain": [
       "30"
      ]
     },
     "execution_count": 3,
     "metadata": {},
     "output_type": "execute_result"
    }
   ],
   "source": [
    "focal_samples = list(df_expression)  # header\n",
    "len(focal_samples)"
   ]
  },
  {
   "cell_type": "code",
   "execution_count": 4,
   "metadata": {
    "scrolled": false
   },
   "outputs": [
    {
     "data": {
      "text/html": [
       "<div>\n",
       "<style scoped>\n",
       "    .dataframe tbody tr th:only-of-type {\n",
       "        vertical-align: middle;\n",
       "    }\n",
       "\n",
       "    .dataframe tbody tr th {\n",
       "        vertical-align: top;\n",
       "    }\n",
       "\n",
       "    .dataframe thead th {\n",
       "        text-align: right;\n",
       "    }\n",
       "</style>\n",
       "<table border=\"1\" class=\"dataframe\">\n",
       "  <thead>\n",
       "    <tr style=\"text-align: right;\">\n",
       "      <th></th>\n",
       "      <th>Sample_name</th>\n",
       "      <th>Sample_Name2</th>\n",
       "      <th>mouse genotype</th>\n",
       "      <th>short_genotype</th>\n",
       "      <th>Model</th>\n",
       "      <th>Treatment</th>\n",
       "      <th>Tissue</th>\n",
       "    </tr>\n",
       "  </thead>\n",
       "  <tbody>\n",
       "    <tr>\n",
       "      <th>0</th>\n",
       "      <td>dHEP_518_A_NT</td>\n",
       "      <td>dHEP-518-A-NT</td>\n",
       "      <td>Alb-Cre;IL-17RA-flox/flox</td>\n",
       "      <td>AlbCre_IL17RA_floxflox</td>\n",
       "      <td>DEN</td>\n",
       "      <td>DEN_HFD_alcohol</td>\n",
       "      <td>Liver</td>\n",
       "    </tr>\n",
       "    <tr>\n",
       "      <th>1</th>\n",
       "      <td>dHEP_520_A_NT</td>\n",
       "      <td>dHEP-520-A-NT</td>\n",
       "      <td>Alb-Cre;IL-17RA-flox/flox</td>\n",
       "      <td>AlbCre_IL17RA_floxflox</td>\n",
       "      <td>DEN</td>\n",
       "      <td>DEN_HFD_alcohol</td>\n",
       "      <td>Liver</td>\n",
       "    </tr>\n",
       "    <tr>\n",
       "      <th>2</th>\n",
       "      <td>dHEP_549_A_NT</td>\n",
       "      <td>dHEP-549-A-NT</td>\n",
       "      <td>Alb-Cre;IL-17RA-flox/flox</td>\n",
       "      <td>AlbCre_IL17RA_floxflox</td>\n",
       "      <td>DEN</td>\n",
       "      <td>DEN_HFD_alcohol</td>\n",
       "      <td>Liver</td>\n",
       "    </tr>\n",
       "    <tr>\n",
       "      <th>3</th>\n",
       "      <td>dHEP_550_A_NT</td>\n",
       "      <td>dHEP-550-A-NT</td>\n",
       "      <td>Alb-Cre;IL-17RA-flox/flox</td>\n",
       "      <td>AlbCre_IL17RA_floxflox</td>\n",
       "      <td>DEN</td>\n",
       "      <td>DEN_HFD_alcohol</td>\n",
       "      <td>Liver</td>\n",
       "    </tr>\n",
       "    <tr>\n",
       "      <th>4</th>\n",
       "      <td>F_F_503_A_NT</td>\n",
       "      <td>F/F-503-A-NT</td>\n",
       "      <td>IL-17RA-flox/flox</td>\n",
       "      <td>IL17RA_floxflox</td>\n",
       "      <td>DEN</td>\n",
       "      <td>DEN_HFD_alcohol</td>\n",
       "      <td>Liver</td>\n",
       "    </tr>\n",
       "  </tbody>\n",
       "</table>\n",
       "</div>"
      ],
      "text/plain": [
       "     Sample_name   Sample_Name2             mouse genotype  \\\n",
       "0  dHEP_518_A_NT  dHEP-518-A-NT  Alb-Cre;IL-17RA-flox/flox   \n",
       "1  dHEP_520_A_NT  dHEP-520-A-NT  Alb-Cre;IL-17RA-flox/flox   \n",
       "2  dHEP_549_A_NT  dHEP-549-A-NT  Alb-Cre;IL-17RA-flox/flox   \n",
       "3  dHEP_550_A_NT  dHEP-550-A-NT  Alb-Cre;IL-17RA-flox/flox   \n",
       "4   F_F_503_A_NT   F/F-503-A-NT          IL-17RA-flox/flox   \n",
       "\n",
       "           short_genotype Model        Treatment Tissue  \n",
       "0  AlbCre_IL17RA_floxflox  DEN   DEN_HFD_alcohol  Liver  \n",
       "1  AlbCre_IL17RA_floxflox  DEN   DEN_HFD_alcohol  Liver  \n",
       "2  AlbCre_IL17RA_floxflox  DEN   DEN_HFD_alcohol  Liver  \n",
       "3  AlbCre_IL17RA_floxflox  DEN   DEN_HFD_alcohol  Liver  \n",
       "4         IL17RA_floxflox  DEN   DEN_HFD_alcohol  Liver  "
      ]
     },
     "execution_count": 4,
     "metadata": {},
     "output_type": "execute_result"
    }
   ],
   "source": [
    "df_meta = pd.read_csv(meta_file)\n",
    "df_meta.head()"
   ]
  },
  {
   "cell_type": "code",
   "execution_count": 5,
   "metadata": {},
   "outputs": [
    {
     "data": {
      "text/plain": [
       "(30, 7)"
      ]
     },
     "execution_count": 5,
     "metadata": {},
     "output_type": "execute_result"
    }
   ],
   "source": [
    "# keep the samples that are in the expression file\n",
    "df_meta = df_meta[df_meta['Sample_name'].isin(focal_samples)]\n",
    "df_meta.shape"
   ]
  },
  {
   "cell_type": "code",
   "execution_count": 6,
   "metadata": {
    "collapsed": true
   },
   "outputs": [],
   "source": [
    "#df_meta['Model'] == 'DEN'  #this would print as False, because it is actually 'DEN ' with a space\n"
   ]
  },
  {
   "cell_type": "code",
   "execution_count": 7,
   "metadata": {},
   "outputs": [
    {
     "data": {
      "text/html": [
       "<div>\n",
       "<style scoped>\n",
       "    .dataframe tbody tr th:only-of-type {\n",
       "        vertical-align: middle;\n",
       "    }\n",
       "\n",
       "    .dataframe tbody tr th {\n",
       "        vertical-align: top;\n",
       "    }\n",
       "\n",
       "    .dataframe thead th {\n",
       "        text-align: right;\n",
       "    }\n",
       "</style>\n",
       "<table border=\"1\" class=\"dataframe\">\n",
       "  <thead>\n",
       "    <tr style=\"text-align: right;\">\n",
       "      <th></th>\n",
       "      <th>Sample_name</th>\n",
       "      <th>Sample_Name2</th>\n",
       "      <th>mouse genotype</th>\n",
       "      <th>short_genotype</th>\n",
       "      <th>Model</th>\n",
       "      <th>Treatment</th>\n",
       "      <th>Tissue</th>\n",
       "    </tr>\n",
       "  </thead>\n",
       "  <tbody>\n",
       "    <tr>\n",
       "      <th>0</th>\n",
       "      <td>dHEP_518_A_NT</td>\n",
       "      <td>dHEP-518-A-NT</td>\n",
       "      <td>Alb-Cre;IL-17RA-flox/flox</td>\n",
       "      <td>AlbCre_IL17RA_floxflox</td>\n",
       "      <td>DEN</td>\n",
       "      <td>DEN_HFD_alcohol</td>\n",
       "      <td>Liver</td>\n",
       "    </tr>\n",
       "    <tr>\n",
       "      <th>1</th>\n",
       "      <td>dHEP_520_A_NT</td>\n",
       "      <td>dHEP-520-A-NT</td>\n",
       "      <td>Alb-Cre;IL-17RA-flox/flox</td>\n",
       "      <td>AlbCre_IL17RA_floxflox</td>\n",
       "      <td>DEN</td>\n",
       "      <td>DEN_HFD_alcohol</td>\n",
       "      <td>Liver</td>\n",
       "    </tr>\n",
       "    <tr>\n",
       "      <th>2</th>\n",
       "      <td>dHEP_549_A_NT</td>\n",
       "      <td>dHEP-549-A-NT</td>\n",
       "      <td>Alb-Cre;IL-17RA-flox/flox</td>\n",
       "      <td>AlbCre_IL17RA_floxflox</td>\n",
       "      <td>DEN</td>\n",
       "      <td>DEN_HFD_alcohol</td>\n",
       "      <td>Liver</td>\n",
       "    </tr>\n",
       "    <tr>\n",
       "      <th>3</th>\n",
       "      <td>dHEP_550_A_NT</td>\n",
       "      <td>dHEP-550-A-NT</td>\n",
       "      <td>Alb-Cre;IL-17RA-flox/flox</td>\n",
       "      <td>AlbCre_IL17RA_floxflox</td>\n",
       "      <td>DEN</td>\n",
       "      <td>DEN_HFD_alcohol</td>\n",
       "      <td>Liver</td>\n",
       "    </tr>\n",
       "    <tr>\n",
       "      <th>14</th>\n",
       "      <td>dHEP_518_A_T1</td>\n",
       "      <td>dHEP-518-A-T1</td>\n",
       "      <td>Alb-Cre;IL-17RA-flox/flox</td>\n",
       "      <td>AlbCre_IL17RA_floxflox</td>\n",
       "      <td>DEN</td>\n",
       "      <td>DEN_HFD_alcohol</td>\n",
       "      <td>liver_tumor</td>\n",
       "    </tr>\n",
       "    <tr>\n",
       "      <th>15</th>\n",
       "      <td>dHEP_520_A_T</td>\n",
       "      <td>dHEP-520-A-T</td>\n",
       "      <td>Alb-Cre;IL-17RA-flox/flox</td>\n",
       "      <td>AlbCre_IL17RA_floxflox</td>\n",
       "      <td>DEN</td>\n",
       "      <td>DEN_HFD_alcohol</td>\n",
       "      <td>liver_tumor</td>\n",
       "    </tr>\n",
       "    <tr>\n",
       "      <th>16</th>\n",
       "      <td>dHEP_549_A_T</td>\n",
       "      <td>dHEP-549-A-T</td>\n",
       "      <td>Alb-Cre;IL-17RA-flox/flox</td>\n",
       "      <td>AlbCre_IL17RA_floxflox</td>\n",
       "      <td>DEN</td>\n",
       "      <td>DEN_HFD_alcohol</td>\n",
       "      <td>liver_tumor</td>\n",
       "    </tr>\n",
       "    <tr>\n",
       "      <th>17</th>\n",
       "      <td>dHEP_550_A_T</td>\n",
       "      <td>dHEP-550-A-T</td>\n",
       "      <td>Alb-Cre;IL-17RA-flox/flox</td>\n",
       "      <td>AlbCre_IL17RA_floxflox</td>\n",
       "      <td>DEN</td>\n",
       "      <td>DEN_HFD_alcohol</td>\n",
       "      <td>liver_tumor</td>\n",
       "    </tr>\n",
       "  </tbody>\n",
       "</table>\n",
       "</div>"
      ],
      "text/plain": [
       "      Sample_name   Sample_Name2             mouse genotype  \\\n",
       "0   dHEP_518_A_NT  dHEP-518-A-NT  Alb-Cre;IL-17RA-flox/flox   \n",
       "1   dHEP_520_A_NT  dHEP-520-A-NT  Alb-Cre;IL-17RA-flox/flox   \n",
       "2   dHEP_549_A_NT  dHEP-549-A-NT  Alb-Cre;IL-17RA-flox/flox   \n",
       "3   dHEP_550_A_NT  dHEP-550-A-NT  Alb-Cre;IL-17RA-flox/flox   \n",
       "14  dHEP_518_A_T1  dHEP-518-A-T1  Alb-Cre;IL-17RA-flox/flox   \n",
       "15   dHEP_520_A_T   dHEP-520-A-T  Alb-Cre;IL-17RA-flox/flox   \n",
       "16   dHEP_549_A_T   dHEP-549-A-T  Alb-Cre;IL-17RA-flox/flox   \n",
       "17   dHEP_550_A_T   dHEP-550-A-T  Alb-Cre;IL-17RA-flox/flox   \n",
       "\n",
       "            short_genotype Model        Treatment       Tissue  \n",
       "0   AlbCre_IL17RA_floxflox  DEN   DEN_HFD_alcohol        Liver  \n",
       "1   AlbCre_IL17RA_floxflox  DEN   DEN_HFD_alcohol        Liver  \n",
       "2   AlbCre_IL17RA_floxflox  DEN   DEN_HFD_alcohol        Liver  \n",
       "3   AlbCre_IL17RA_floxflox  DEN   DEN_HFD_alcohol        Liver  \n",
       "14  AlbCre_IL17RA_floxflox  DEN   DEN_HFD_alcohol  liver_tumor  \n",
       "15  AlbCre_IL17RA_floxflox  DEN   DEN_HFD_alcohol  liver_tumor  \n",
       "16  AlbCre_IL17RA_floxflox  DEN   DEN_HFD_alcohol  liver_tumor  \n",
       "17  AlbCre_IL17RA_floxflox  DEN   DEN_HFD_alcohol  liver_tumor  "
      ]
     },
     "execution_count": 7,
     "metadata": {},
     "output_type": "execute_result"
    }
   ],
   "source": [
    "# filter the samples: ONLY keep the samples that match the controls\n",
    "for key, value in controls.iteritems(): \n",
    "    df_meta = df_meta[df_meta[key]==value]\n",
    "\n",
    "df_meta   \n"
   ]
  },
  {
   "cell_type": "code",
   "execution_count": 8,
   "metadata": {},
   "outputs": [
    {
     "name": "stdout",
     "output_type": "stream",
     "text": [
      "8\n"
     ]
    },
    {
     "data": {
      "text/html": [
       "<div>\n",
       "<style scoped>\n",
       "    .dataframe tbody tr th:only-of-type {\n",
       "        vertical-align: middle;\n",
       "    }\n",
       "\n",
       "    .dataframe tbody tr th {\n",
       "        vertical-align: top;\n",
       "    }\n",
       "\n",
       "    .dataframe thead th {\n",
       "        text-align: right;\n",
       "    }\n",
       "</style>\n",
       "<table border=\"1\" class=\"dataframe\">\n",
       "  <thead>\n",
       "    <tr style=\"text-align: right;\">\n",
       "      <th></th>\n",
       "      <th>Sample_name</th>\n",
       "      <th>Tissue</th>\n",
       "    </tr>\n",
       "  </thead>\n",
       "  <tbody>\n",
       "    <tr>\n",
       "      <th>0</th>\n",
       "      <td>dHEP_518_A_NT</td>\n",
       "      <td>Liver</td>\n",
       "    </tr>\n",
       "    <tr>\n",
       "      <th>1</th>\n",
       "      <td>dHEP_520_A_NT</td>\n",
       "      <td>Liver</td>\n",
       "    </tr>\n",
       "    <tr>\n",
       "      <th>2</th>\n",
       "      <td>dHEP_549_A_NT</td>\n",
       "      <td>Liver</td>\n",
       "    </tr>\n",
       "    <tr>\n",
       "      <th>3</th>\n",
       "      <td>dHEP_550_A_NT</td>\n",
       "      <td>Liver</td>\n",
       "    </tr>\n",
       "    <tr>\n",
       "      <th>14</th>\n",
       "      <td>dHEP_518_A_T1</td>\n",
       "      <td>liver_tumor</td>\n",
       "    </tr>\n",
       "    <tr>\n",
       "      <th>15</th>\n",
       "      <td>dHEP_520_A_T</td>\n",
       "      <td>liver_tumor</td>\n",
       "    </tr>\n",
       "    <tr>\n",
       "      <th>16</th>\n",
       "      <td>dHEP_549_A_T</td>\n",
       "      <td>liver_tumor</td>\n",
       "    </tr>\n",
       "    <tr>\n",
       "      <th>17</th>\n",
       "      <td>dHEP_550_A_T</td>\n",
       "      <td>liver_tumor</td>\n",
       "    </tr>\n",
       "  </tbody>\n",
       "</table>\n",
       "</div>"
      ],
      "text/plain": [
       "      Sample_name       Tissue\n",
       "0   dHEP_518_A_NT        Liver\n",
       "1   dHEP_520_A_NT        Liver\n",
       "2   dHEP_549_A_NT        Liver\n",
       "3   dHEP_550_A_NT        Liver\n",
       "14  dHEP_518_A_T1  liver_tumor\n",
       "15   dHEP_520_A_T  liver_tumor\n",
       "16   dHEP_549_A_T  liver_tumor\n",
       "17   dHEP_550_A_T  liver_tumor"
      ]
     },
     "execution_count": 8,
     "metadata": {},
     "output_type": "execute_result"
    }
   ],
   "source": [
    "# extract only the COLUMNS with sample_name and class name\n",
    "samp_to_class = df_meta[['Sample_name', class_name]]\n",
    "\n",
    "# only keep the rows with class_A and class_B\n",
    "samp_to_class = samp_to_class[(samp_to_class[class_name] == class_A) | (samp_to_class[class_name] == class_B)]\n",
    "\n",
    "print(len(samp_to_class))\n",
    "samp_to_class"
   ]
  },
  {
   "cell_type": "code",
   "execution_count": 9,
   "metadata": {},
   "outputs": [
    {
     "data": {
      "text/plain": [
       "(22187, 8)"
      ]
     },
     "execution_count": 9,
     "metadata": {},
     "output_type": "execute_result"
    }
   ],
   "source": [
    "# Filter expression file\n",
    "real_focal_samples = samp_to_class['Sample_name'].tolist()\n",
    "df_expression = df_expression[real_focal_samples]\n",
    "df_expression.shape"
   ]
  },
  {
   "cell_type": "code",
   "execution_count": 10,
   "metadata": {},
   "outputs": [
    {
     "data": {
      "text/plain": [
       "(22187, 9)"
      ]
     },
     "execution_count": 10,
     "metadata": {},
     "output_type": "execute_result"
    }
   ],
   "source": [
    "cap_gene = [str(g).upper() for g in df_expression.index.tolist()] # cap the genes\n",
    "df_expression['Name'] = cap_gene                                  # create a new column\n",
    "df_expression = df_expression[['Name'] + real_focal_samples]           # put the 'Name' column at front\n",
    "df_expression.index = range(0,len(df_expression))                 # number the rows\n",
    "df_expression.head()\n",
    "df_expression.shape"
   ]
  },
  {
   "cell_type": "code",
   "execution_count": 11,
   "metadata": {
    "scrolled": true
   },
   "outputs": [
    {
     "data": {
      "text/plain": [
       "['Liver',\n",
       " 'Liver',\n",
       " 'Liver',\n",
       " 'Liver',\n",
       " 'liver_tumor',\n",
       " 'liver_tumor',\n",
       " 'liver_tumor',\n",
       " 'liver_tumor']"
      ]
     },
     "execution_count": 11,
     "metadata": {},
     "output_type": "execute_result"
    }
   ],
   "source": [
    "cls_list = samp_to_class[class_name].tolist()\n",
    "cls_list"
   ]
  },
  {
   "cell_type": "code",
   "execution_count": 12,
   "metadata": {},
   "outputs": [
    {
     "name": "stderr",
     "output_type": "stream",
     "text": [
      "2018-03-01 15:58:29,267 Warning: dropping duplicated gene names, only keep the first values\n"
     ]
    }
   ],
   "source": [
    "gs_res = gp.gsea(data=df_expression, \n",
    "                 gene_sets=gmt_file,\n",
    "                 cls=samp_to_class[class_name].tolist(),  # we only need Treatment column here, since the Sample_name is in the expression file\n",
    "                 permutation_num=100, # reduce number to speed up test\n",
    "                 weighted_score_type = 1,  # default: 1\n",
    "                 outdir=output_dir,\n",
    "                 method='log2_ratio_of_classes',\n",
    "                 processes=4,    ## 1 is default\n",
    "                 format='png')"
   ]
  },
  {
   "cell_type": "code",
   "execution_count": 2,
   "metadata": {},
   "outputs": [
    {
     "ename": "NameError",
     "evalue": "name 'gs_res' is not defined",
     "output_type": "error",
     "traceback": [
      "\u001b[0;31m---------------------------------------------------------------------------\u001b[0m",
      "\u001b[0;31mNameError\u001b[0m                                 Traceback (most recent call last)",
      "\u001b[0;32m<ipython-input-2-edd6cd57222e>\u001b[0m in \u001b[0;36m<module>\u001b[0;34m()\u001b[0m\n\u001b[1;32m      1\u001b[0m \u001b[0;31m#access the dataframe results throught res2d attribute\u001b[0m\u001b[0;34m\u001b[0m\u001b[0;34m\u001b[0m\u001b[0m\n\u001b[0;32m----> 2\u001b[0;31m \u001b[0mgs_res\u001b[0m\u001b[0;34m.\u001b[0m\u001b[0mres2d\u001b[0m\u001b[0;34m.\u001b[0m\u001b[0mhead\u001b[0m\u001b[0;34m(\u001b[0m\u001b[0;34m)\u001b[0m\u001b[0;34m\u001b[0m\u001b[0m\n\u001b[0m",
      "\u001b[0;31mNameError\u001b[0m: name 'gs_res' is not defined"
     ]
    }
   ],
   "source": [
    "#access the dataframe results throught res2d attribute\n",
    "gs_res.res2d.head()"
   ]
  },
  {
   "cell_type": "code",
   "execution_count": 1,
   "metadata": {},
   "outputs": [
    {
     "name": "stdout",
     "output_type": "stream",
     "text": [
      "Object `gp.gsea` not found.\n"
     ]
    }
   ],
   "source": [
    "#gp.gsea?"
   ]
  },
  {
   "cell_type": "code",
   "execution_count": null,
   "metadata": {
    "collapsed": true
   },
   "outputs": [],
   "source": []
  }
 ],
 "metadata": {
  "kernelspec": {
   "display_name": "Python 2",
   "language": "python",
   "name": "python2"
  },
  "language_info": {
   "codemirror_mode": {
    "name": "ipython",
    "version": 2
   },
   "file_extension": ".py",
   "mimetype": "text/x-python",
   "name": "python",
   "nbconvert_exporter": "python",
   "pygments_lexer": "ipython2",
   "version": "2.7.14"
  }
 },
 "nbformat": 4,
 "nbformat_minor": 2
}
