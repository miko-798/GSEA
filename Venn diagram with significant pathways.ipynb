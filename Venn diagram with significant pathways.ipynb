{
 "cells": [
  {
   "cell_type": "code",
   "execution_count": 1,
   "metadata": {
    "collapsed": true
   },
   "outputs": [],
   "source": [
    "import numpy as np\n",
    "import pandas as pd\n",
    "import gseapy as gp\n",
    "import scipy\n",
    "import matplotlib\n",
    "import matplotlib_venn\n",
    "% matplotlib inline\n",
    "\n",
    "# weighted_score_type=1\n",
    "report1= '/Users/Miko/Desktop/CCBB/Network/output/by_tissue_w_1/gseapy.gsea.gene_set.report.csv'\n",
    "# weighted_score_type=0\n",
    "report2= '/Users/Miko/Desktop/CCBB/Network/output/by_tissue_w_0/gseapy.gsea.gene_set.report.csv'"
   ]
  },
  {
   "cell_type": "code",
   "execution_count": 3,
   "metadata": {},
   "outputs": [
    {
     "data": {
      "text/html": [
       "<div>\n",
       "<style scoped>\n",
       "    .dataframe tbody tr th:only-of-type {\n",
       "        vertical-align: middle;\n",
       "    }\n",
       "\n",
       "    .dataframe tbody tr th {\n",
       "        vertical-align: top;\n",
       "    }\n",
       "\n",
       "    .dataframe thead th {\n",
       "        text-align: right;\n",
       "    }\n",
       "</style>\n",
       "<table border=\"1\" class=\"dataframe\">\n",
       "  <thead>\n",
       "    <tr style=\"text-align: right;\">\n",
       "      <th></th>\n",
       "      <th>Term</th>\n",
       "      <th>es</th>\n",
       "      <th>nes</th>\n",
       "      <th>pval</th>\n",
       "      <th>fdr</th>\n",
       "      <th>geneset_size</th>\n",
       "      <th>matched_size</th>\n",
       "      <th>genes</th>\n",
       "    </tr>\n",
       "  </thead>\n",
       "  <tbody>\n",
       "    <tr>\n",
       "      <th>0</th>\n",
       "      <td>REACTOME_MITOTIC_PROMETAPHASE</td>\n",
       "      <td>-0.740904</td>\n",
       "      <td>-2.119820</td>\n",
       "      <td>0.0</td>\n",
       "      <td>0.0</td>\n",
       "      <td>87</td>\n",
       "      <td>79</td>\n",
       "      <td>PPP2R1B,PPP2R5A,AHCTF1,CLIP1,ZW10,NUDC,B9D2,SM...</td>\n",
       "    </tr>\n",
       "    <tr>\n",
       "      <th>1</th>\n",
       "      <td>REACTOME_SYNTHESIS_OF_BILE_ACIDS_AND_BILE_SALTS</td>\n",
       "      <td>0.783435</td>\n",
       "      <td>2.194319</td>\n",
       "      <td>0.0</td>\n",
       "      <td>0.0</td>\n",
       "      <td>19</td>\n",
       "      <td>17</td>\n",
       "      <td>CYP7B1,CYP46A1,CYP8B1,CYP27A1,CYP7A1,HSD3B7,SL...</td>\n",
       "    </tr>\n",
       "    <tr>\n",
       "      <th>2</th>\n",
       "      <td>REACTOME_CELL_CYCLE</td>\n",
       "      <td>-0.642722</td>\n",
       "      <td>-2.023847</td>\n",
       "      <td>0.0</td>\n",
       "      <td>0.0</td>\n",
       "      <td>421</td>\n",
       "      <td>362</td>\n",
       "      <td>SYCP3,MCM10,REC8,PPP2R1B,SYNE2,HSPA2,PSMD11,RB...</td>\n",
       "    </tr>\n",
       "    <tr>\n",
       "      <th>3</th>\n",
       "      <td>REACTOME_MITOTIC_M_M_G1_PHASES</td>\n",
       "      <td>-0.670343</td>\n",
       "      <td>-2.085525</td>\n",
       "      <td>0.0</td>\n",
       "      <td>0.0</td>\n",
       "      <td>172</td>\n",
       "      <td>159</td>\n",
       "      <td>MCM10,PPP2R1B,PSMD11,PSMA5,PSMD3,GORASP1,PSMD4...</td>\n",
       "    </tr>\n",
       "    <tr>\n",
       "      <th>4</th>\n",
       "      <td>REACTOME_TELOMERE_MAINTENANCE</td>\n",
       "      <td>-0.714481</td>\n",
       "      <td>-2.023177</td>\n",
       "      <td>0.0</td>\n",
       "      <td>0.0</td>\n",
       "      <td>75</td>\n",
       "      <td>62</td>\n",
       "      <td>DNA2,TERF2IP,POLD2,WRAP53,POLA2,HIST1H4H,TERF2...</td>\n",
       "    </tr>\n",
       "  </tbody>\n",
       "</table>\n",
       "</div>"
      ],
      "text/plain": [
       "                                              Term        es       nes  pval  \\\n",
       "0                    REACTOME_MITOTIC_PROMETAPHASE -0.740904 -2.119820   0.0   \n",
       "1  REACTOME_SYNTHESIS_OF_BILE_ACIDS_AND_BILE_SALTS  0.783435  2.194319   0.0   \n",
       "2                              REACTOME_CELL_CYCLE -0.642722 -2.023847   0.0   \n",
       "3                   REACTOME_MITOTIC_M_M_G1_PHASES -0.670343 -2.085525   0.0   \n",
       "4                    REACTOME_TELOMERE_MAINTENANCE -0.714481 -2.023177   0.0   \n",
       "\n",
       "   fdr  geneset_size  matched_size  \\\n",
       "0  0.0            87            79   \n",
       "1  0.0            19            17   \n",
       "2  0.0           421           362   \n",
       "3  0.0           172           159   \n",
       "4  0.0            75            62   \n",
       "\n",
       "                                               genes  \n",
       "0  PPP2R1B,PPP2R5A,AHCTF1,CLIP1,ZW10,NUDC,B9D2,SM...  \n",
       "1  CYP7B1,CYP46A1,CYP8B1,CYP27A1,CYP7A1,HSD3B7,SL...  \n",
       "2  SYCP3,MCM10,REC8,PPP2R1B,SYNE2,HSPA2,PSMD11,RB...  \n",
       "3  MCM10,PPP2R1B,PSMD11,PSMA5,PSMD3,GORASP1,PSMD4...  \n",
       "4  DNA2,TERF2IP,POLD2,WRAP53,POLA2,HIST1H4H,TERF2...  "
      ]
     },
     "execution_count": 3,
     "metadata": {},
     "output_type": "execute_result"
    }
   ],
   "source": [
    "# from report1, extract set1\n",
    "df_report1 = pd.read_csv(report1)\n",
    "df_report1.head()\n"
   ]
  },
  {
   "cell_type": "code",
   "execution_count": 4,
   "metadata": {},
   "outputs": [
    {
     "data": {
      "text/html": [
       "<div>\n",
       "<style scoped>\n",
       "    .dataframe tbody tr th:only-of-type {\n",
       "        vertical-align: middle;\n",
       "    }\n",
       "\n",
       "    .dataframe tbody tr th {\n",
       "        vertical-align: top;\n",
       "    }\n",
       "\n",
       "    .dataframe thead th {\n",
       "        text-align: right;\n",
       "    }\n",
       "</style>\n",
       "<table border=\"1\" class=\"dataframe\">\n",
       "  <thead>\n",
       "    <tr style=\"text-align: right;\">\n",
       "      <th></th>\n",
       "      <th>Term</th>\n",
       "      <th>es</th>\n",
       "      <th>nes</th>\n",
       "      <th>pval</th>\n",
       "      <th>fdr</th>\n",
       "      <th>geneset_size</th>\n",
       "      <th>matched_size</th>\n",
       "      <th>genes</th>\n",
       "    </tr>\n",
       "  </thead>\n",
       "  <tbody>\n",
       "    <tr>\n",
       "      <th>0</th>\n",
       "      <td>KEGG_RIBOSOME</td>\n",
       "      <td>-0.003310</td>\n",
       "      <td>-5.804990</td>\n",
       "      <td>0.0</td>\n",
       "      <td>0.0</td>\n",
       "      <td>88</td>\n",
       "      <td>78</td>\n",
       "      <td>RSL24D1,RPS27A,FAU,RPL27,RPS27L,RPS2,RPL22,UBA...</td>\n",
       "    </tr>\n",
       "    <tr>\n",
       "      <th>1</th>\n",
       "      <td>REACTOME_CROSS_PRESENTATION_OF_SOLUBLE_EXOGENO...</td>\n",
       "      <td>0.001428</td>\n",
       "      <td>3.258455</td>\n",
       "      <td>0.0</td>\n",
       "      <td>0.0</td>\n",
       "      <td>48</td>\n",
       "      <td>45</td>\n",
       "      <td>PSMD11,PSMA5,PSMD3,PSMD4,PSMC5,PSMA6,PSMB5,PSM...</td>\n",
       "    </tr>\n",
       "    <tr>\n",
       "      <th>2</th>\n",
       "      <td>REACTOME_CYTOCHROME_P450_ARRANGED_BY_SUBSTRATE...</td>\n",
       "      <td>0.000763</td>\n",
       "      <td>2.806155</td>\n",
       "      <td>0.0</td>\n",
       "      <td>0.0</td>\n",
       "      <td>51</td>\n",
       "      <td>19</td>\n",
       "      <td>CYP7B1,CYP2E1,CYP46A1,CYP1A2,CYP8B1,CYP26B1,CY...</td>\n",
       "    </tr>\n",
       "    <tr>\n",
       "      <th>3</th>\n",
       "      <td>REACTOME_PHASE1_FUNCTIONALIZATION_OF_COMPOUNDS</td>\n",
       "      <td>0.001119</td>\n",
       "      <td>2.796458</td>\n",
       "      <td>0.0</td>\n",
       "      <td>0.0</td>\n",
       "      <td>70</td>\n",
       "      <td>34</td>\n",
       "      <td>CYP7B1,CYP2E1,CYP46A1,CYP1A2,CYP8B1,CYP26B1,CY...</td>\n",
       "    </tr>\n",
       "    <tr>\n",
       "      <th>4</th>\n",
       "      <td>REACTOME_PEROXISOMAL_LIPID_METABOLISM</td>\n",
       "      <td>0.000787</td>\n",
       "      <td>2.916616</td>\n",
       "      <td>0.0</td>\n",
       "      <td>0.0</td>\n",
       "      <td>21</td>\n",
       "      <td>19</td>\n",
       "      <td>HACL1,ACOX1,SCP2,PHYH,CROT,ABCD1,SLC27A2,HSD17...</td>\n",
       "    </tr>\n",
       "  </tbody>\n",
       "</table>\n",
       "</div>"
      ],
      "text/plain": [
       "                                                Term        es       nes  \\\n",
       "0                                      KEGG_RIBOSOME -0.003310 -5.804990   \n",
       "1  REACTOME_CROSS_PRESENTATION_OF_SOLUBLE_EXOGENO...  0.001428  3.258455   \n",
       "2  REACTOME_CYTOCHROME_P450_ARRANGED_BY_SUBSTRATE...  0.000763  2.806155   \n",
       "3     REACTOME_PHASE1_FUNCTIONALIZATION_OF_COMPOUNDS  0.001119  2.796458   \n",
       "4              REACTOME_PEROXISOMAL_LIPID_METABOLISM  0.000787  2.916616   \n",
       "\n",
       "   pval  fdr  geneset_size  matched_size  \\\n",
       "0   0.0  0.0            88            78   \n",
       "1   0.0  0.0            48            45   \n",
       "2   0.0  0.0            51            19   \n",
       "3   0.0  0.0            70            34   \n",
       "4   0.0  0.0            21            19   \n",
       "\n",
       "                                               genes  \n",
       "0  RSL24D1,RPS27A,FAU,RPL27,RPS27L,RPS2,RPL22,UBA...  \n",
       "1  PSMD11,PSMA5,PSMD3,PSMD4,PSMC5,PSMA6,PSMB5,PSM...  \n",
       "2  CYP7B1,CYP2E1,CYP46A1,CYP1A2,CYP8B1,CYP26B1,CY...  \n",
       "3  CYP7B1,CYP2E1,CYP46A1,CYP1A2,CYP8B1,CYP26B1,CY...  \n",
       "4  HACL1,ACOX1,SCP2,PHYH,CROT,ABCD1,SLC27A2,HSD17...  "
      ]
     },
     "execution_count": 4,
     "metadata": {},
     "output_type": "execute_result"
    }
   ],
   "source": [
    "# from report2, extract set2\n",
    "df_report2 = pd.read_csv(report2)\n",
    "df_report2.head()"
   ]
  },
  {
   "cell_type": "code",
   "execution_count": 8,
   "metadata": {},
   "outputs": [
    {
     "data": {
      "text/plain": [
       "940"
      ]
     },
     "execution_count": 8,
     "metadata": {},
     "output_type": "execute_result"
    }
   ],
   "source": [
    "sig_path1 = df_report1['Term'].tolist()\n",
    "len(sig_path1)\n"
   ]
  },
  {
   "cell_type": "code",
   "execution_count": 9,
   "metadata": {},
   "outputs": [
    {
     "data": {
      "text/plain": [
       "940"
      ]
     },
     "execution_count": 9,
     "metadata": {},
     "output_type": "execute_result"
    }
   ],
   "source": [
    "sig_path2 = df_report2['Term'].tolist()\n",
    "len(sig_path2)\n"
   ]
  },
  {
   "cell_type": "code",
   "execution_count": 10,
   "metadata": {},
   "outputs": [
    {
     "data": {
      "text/plain": [
       "<matplotlib_venn._common.VennDiagram instance at 0x150b4c5cf8>"
      ]
     },
     "execution_count": 10,
     "metadata": {},
     "output_type": "execute_result"
    },
    {
     "data": {
      "image/png": "[encoded data removed]",
      "text/plain": [
       "<matplotlib.figure.Figure at 0x150b5a8e10>"
      ]
     },
     "metadata": {},
     "output_type": "display_data"
    }
   ],
   "source": [
    "matplotlib_venn.venn2([set(sig_path1), set(sig_path2)])"
   ]
  },
  {
   "cell_type": "code",
   "execution_count": null,
   "metadata": {
    "collapsed": true
   },
   "outputs": [],
   "source": []
  }
 ],
 "metadata": {
  "kernelspec": {
   "display_name": "Python 2",
   "language": "python",
   "name": "python2"
  },
  "language_info": {
   "codemirror_mode": {
    "name": "ipython",
    "version": 2
   },
   "file_extension": ".py",
   "mimetype": "text/x-python",
   "name": "python",
   "nbconvert_exporter": "python",
   "pygments_lexer": "ipython2",
   "version": "2.7.14"
  }
 },
 "nbformat": 4,
 "nbformat_minor": 2
}
