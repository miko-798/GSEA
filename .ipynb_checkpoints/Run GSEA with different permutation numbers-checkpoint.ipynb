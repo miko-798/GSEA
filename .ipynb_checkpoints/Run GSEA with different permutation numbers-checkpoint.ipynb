{
 "cells": [
  {
   "cell_type": "code",
   "execution_count": null,
   "metadata": {},
   "outputs": [],
   "source": [
    "import sys\n",
    "import itertools\n",
    "import pandas as pd\n",
    "import numpy as np\n",
    "import gseapy as gp\n",
    "import warnings\n",
    "warnings.filterwarnings('ignore')\n",
    "\n",
    "gmt_file = '/Users/Miko/Desktop/CCBB/Network/gmt/c2.cp.v6.1.symbols.gmt'\n",
    "expression_file = '/Users/Miko/Desktop/CCBB/Network/mouse_liver/RNA_cpm_all_samples.tsv'\n",
    "meta_file = \"/Users/Miko/Desktop/CCBB/Network/mouse_liver/dHEP_metadata.csv\"\n",
    "general_output_dir = '/Users/Miko/Desktop/CCBB/Network/output/rep_perm'\n",
    "\n",
    "# ONLY compare the samples differed by the class_name, \n",
    "# while keeping all other parameters the same\n",
    "class_name = 'Tissue'  #'Treatment' \n",
    "class_A = 'Liver'  #'DEN_HFD_alcohol'\n",
    "class_B = 'liver_tumor'  #'DEN_only'\n",
    "\n",
    "# User types in the controls (attributes that remain constant)\n",
    "controls = {'mouse genotype': 'Alb-Cre;IL-17RA-flox/flox',\n",
    "            'Model': 'DEN ',  ### There is a space at the end\n",
    "            'Treatment': 'DEN_HFD_alcohol'}\n",
    "print controls"
   ]
  },
  {
   "cell_type": "code",
   "execution_count": null,
   "metadata": {
    "collapsed": true
   },
   "outputs": [],
   "source": [
    "def run_gsea(perm_num, i):\n",
    "    #make dir\n",
    "    !mkdir $general_output_dir/$perm_num\n",
    "\n",
    "    !mkdir $general_output_dir/$perm_num/$i\n",
    "\n",
    "    output_dir = general_output_dir +\"/\"+ str(perm_num) +\"/\"+ str(i)\n",
    "    #print(output_dir)\n",
    "    \n",
    "    df_expression = pd.read_table(expression_file, index_col='Unnamed: 0')\n",
    "    #df_expression.head()\n",
    "\n",
    "    focal_samples = list(df_expression)  # header\n",
    "    #len(focal_samples)\n",
    "\n",
    "    df_meta = pd.read_csv(meta_file)\n",
    "    #df_meta.head()\n",
    "\n",
    "    # keep the samples that are in the expression file\n",
    "    df_meta = df_meta[df_meta['Sample_name'].isin(focal_samples)]\n",
    "    #df_meta.shape\n",
    "    #df_meta['Model'] == 'DEN'  #this would print as False, because it is actually 'DEN ' with a space\n",
    "\n",
    "    # filter the samples: ONLY keep the samples that match the controls\n",
    "    for key, value in controls.iteritems(): \n",
    "        df_meta = df_meta[df_meta[key]==value]\n",
    "\n",
    "    #df_meta   \n",
    "\n",
    "\n",
    "    # extract only the COLUMNS with sample_name and class name\n",
    "    samp_to_class = df_meta[['Sample_name', class_name]]\n",
    "\n",
    "    # only keep the rows with class_A and class_B\n",
    "    samp_to_class = samp_to_class[(samp_to_class[class_name] == class_A) | (samp_to_class[class_name] == class_B)]\n",
    "\n",
    "    #print(len(samp_to_class))\n",
    "    #samp_to_class\n",
    "\n",
    "    # Filter expression file\n",
    "    real_focal_samples = samp_to_class['Sample_name'].tolist()\n",
    "    df_expression = df_expression[real_focal_samples]\n",
    "    #df_expression.shape\n",
    "\n",
    "    cap_gene = [str(g).upper() for g in df_expression.index.tolist()] # cap the genes\n",
    "    df_expression['Name'] = cap_gene                                  # create a new column\n",
    "    df_expression = df_expression[['Name'] + real_focal_samples]           # put the 'Name' column at front\n",
    "    df_expression.index = range(0,len(df_expression))                 # number the rows\n",
    "    #df_expression.head()\n",
    "    #df_expression.shape\n",
    "\n",
    "    cls_list = samp_to_class[class_name].tolist()\n",
    "    #cls_list\n",
    "\n",
    "    gs_res = gp.gsea(data=df_expression, \n",
    "                     gene_sets=gmt_file,\n",
    "                     cls=samp_to_class[class_name].tolist(),  # we only need Treatment column here, since the Sample_name is in the expression file\n",
    "                     permutation_num=perm_num, # reduce number to speed up test\n",
    "                     weighted_score_type = 1,  # default: 1\n",
    "                     outdir=output_dir,\n",
    "                     method='log2_ratio_of_classes',\n",
    "                     processes=4,    ## 1 is default\n",
    "                     format='png')"
   ]
  },
  {
   "cell_type": "code",
   "execution_count": null,
   "metadata": {},
   "outputs": [],
   "source": [
    "# permutation number\n",
    "perm_num_all = [8, 12, 15]\n",
    "#[5, 10, 50, 100, 500, 600, 1000]\n",
    "\n",
    "# number of iterations for each permutation number\n",
    "i_all = [1,2,3,4,5,6,7,8,9,10]\n",
    "\n",
    "for perm_num, i in itertools.product(perm_num_all, i_all):\n",
    "    print(perm_num, i)\n",
    "    print(\"===========\")\n",
    "    run_gsea(perm_num, i)"
   ]
  },
  {
   "cell_type": "code",
   "execution_count": null,
   "metadata": {
    "collapsed": true
   },
   "outputs": [],
   "source": [
    "#access the dataframe results throught res2d attribute\n",
    "#gs_res.res2d.head()"
   ]
  },
  {
   "cell_type": "code",
   "execution_count": null,
   "metadata": {
    "collapsed": true
   },
   "outputs": [],
   "source": [
    "#gp.gsea?"
   ]
  },
  {
   "cell_type": "code",
   "execution_count": null,
   "metadata": {
    "collapsed": true
   },
   "outputs": [],
   "source": []
  }
 ],
 "metadata": {
  "kernelspec": {
   "display_name": "Python 2",
   "language": "python",
   "name": "python2"
  },
  "language_info": {
   "codemirror_mode": {
    "name": "ipython",
    "version": 2
   },
   "file_extension": ".py",
   "mimetype": "text/x-python",
   "name": "python",
   "nbconvert_exporter": "python",
   "pygments_lexer": "ipython2",
   "version": "2.7.14"
  }
 },
 "nbformat": 4,
 "nbformat_minor": 2
}
