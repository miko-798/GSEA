{
 "cells": [
  {
   "cell_type": "code",
   "execution_count": null,
   "metadata": {
    "collapsed": true
   },
   "outputs": [],
   "source": [
    "import sys\n",
    "import itertools\n",
    "import pandas as pd\n",
    "import numpy as np\n",
    "import gseapy as gp\n",
    "from matplotlib import pyplot as plt\n",
    "from functools import reduce  # intersect more than two arrays\n",
    "\n",
    "#from scipy.interpolate import interp1d, splev, splrep  # to connect plot smoothly\n",
    "#from decimal import *    # for displaying decimal values\n",
    "#getcontext().prec = 8    # number of decimal digits\n",
    "% matplotlib inline\n",
    "\n",
    "general_output_dir = '/Users/Miko/Desktop/CCBB/Network/output/rep_perm'\n",
    "fdr_cutoff = 0.3 # significant pathways are those with fdr<=0.3\n",
    "\n",
    "# permutation number\n",
    "perm_num_all = [5, 10, 50, 100, 500, 600]\n",
    "\n",
    "# number of iterations for each permutation number\n",
    "i_all = [1,2,3,4,5,6,7,8,9,10]"
   ]
  },
  {
   "cell_type": "code",
   "execution_count": null,
   "metadata": {
    "collapsed": true
   },
   "outputs": [],
   "source": [
    "# returns a list containing significant pathways for each iteration\n",
    "def sig_pathways(perm_num, i_all):\n",
    "    \n",
    "    sig_path_list = []\n",
    "    for i in i_all:\n",
    "        # locate the directory and output file\n",
    "        output_dir = general_output_dir +\"/\"+ str(perm_num) +\"/\"+ str(i)\n",
    "        #print(output_dir)\n",
    "        output_file = output_dir + \"/gseapy.gsea.gene_set.report.csv\"\n",
    "\n",
    "        # reads in output\n",
    "        df_output = pd.read_csv(output_file)\n",
    "        #df_output.head()\n",
    "\n",
    "        # get the sig. pathways from results\n",
    "        sig_path = df_output[df_output['fdr'] <= fdr_cutoff]['Term'].tolist()\n",
    "        print(\"number of sig. path: \", len(sig_path))\n",
    "        sig_path_list.append(sig_path)\n",
    "        #print(\"number of iterations: \", len(sig_path_list))\n",
    "\n",
    "    return sig_path_list"
   ]
  },
  {
   "cell_type": "code",
   "execution_count": null,
   "metadata": {
    "collapsed": true
   },
   "outputs": [],
   "source": [
    "# a function to calculate repeatability ratio\n",
    "# Repeatability ratio is defined as: \n",
    "# the intersection divided by the union of \n",
    "# the sig. pathways for each output from a single perm_num experiment\n",
    "def repeatability_ratio(perm_num):\n",
    "\n",
    "    sig_path_tuple = tuple(sig_pathways(perm_num, i_all))\n",
    "    print(len(sig_path_tuple))\n",
    "    intersection = reduce(np.intersect1d, sig_path_tuple)\n",
    "    print(len(intersection))\n",
    "    #type(intersection)\n",
    "\n",
    "    union = reduce(np.union1d, sig_path_tuple)\n",
    "    print(len(union))\n",
    "    #type(union)\n",
    "\n",
    "    #rep_ratio = Decimal(len(intersection))/Decimal(len(union))\n",
    "    rep_ratio = float(len(intersection))/float(len(union))\n",
    "    print(rep_ratio)\n",
    "    return rep_ratio"
   ]
  },
  {
   "cell_type": "markdown",
   "metadata": {},
   "source": [
    "### Master cell"
   ]
  },
  {
   "cell_type": "code",
   "execution_count": null,
   "metadata": {},
   "outputs": [],
   "source": [
    "# find out repeatability ratio for each permutation number\n",
    "\n",
    "## TODO:\n",
    "# calculate repeatability for each pair of the 10 iterations\n",
    "\n",
    "rep_ratio_list = []\n",
    "for perm_num in perm_num_all:\n",
    "    print(\"\\n\")\n",
    "    print(perm_num)\n",
    "    rep_ratio_list.append([perm_num, repeatability_ratio(perm_num)])\n",
    "    \n",
    "print(rep_ratio_list)    "
   ]
  },
  {
   "cell_type": "code",
   "execution_count": null,
   "metadata": {},
   "outputs": [],
   "source": [
    "type(rep_ratio_list)"
   ]
  },
  {
   "cell_type": "code",
   "execution_count": null,
   "metadata": {},
   "outputs": [],
   "source": [
    "data = np.array(rep_ratio_list) # create a multi-dimension array\n",
    "type(data)"
   ]
  },
  {
   "cell_type": "code",
   "execution_count": null,
   "metadata": {
    "collapsed": true
   },
   "outputs": [],
   "source": [
    "# Do a transpose on the data (ndarray), to get the perm_num in the first column,\n",
    "# rather than the first row\n",
    "x, y = data.T "
   ]
  },
  {
   "cell_type": "code",
   "execution_count": null,
   "metadata": {
    "collapsed": true
   },
   "outputs": [],
   "source": [
    "# Graph the dots and connect them with straight lines\n",
    "#plt.scatter(x,y)\n",
    "#plt.plot(x, y)"
   ]
  },
  {
   "cell_type": "code",
   "execution_count": null,
   "metadata": {
    "scrolled": false
   },
   "outputs": [],
   "source": [
    "# graph the dots in log scale (x in log, y in linear), because we increase x exponentially\n",
    "plt.semilogx(x,y,'.',markersize=10)\n",
    "plt.errorbar(list(x),list(y),yerr=np.random.rand(len(x),1)) #yerr is a list of standard deviations for the 10 iterations\n",
    "\n",
    "\"\"\"\n",
    "# Graph with smooth lines\n",
    "x_smooth = np.linspace(x.min(), x.max(), num=6)\n",
    "y_smooth = y\n",
    "spl = splrep(x_smooth, y_smooth)\n",
    "\n",
    "x2 = np.linspace(x.min(), x.max(), num=1000)\n",
    "y2 = splev(x2, spl)\n",
    "plt.plot(x_smooth, y_smooth, 'o', x2, y2)\n",
    "\n",
    "plt.show()\n",
    "\n",
    "\"\"\"\n",
    "plt.ylabel('Repeatability')\n",
    "plt.xlabel('Permutation number')\n",
    "\n",
    "#plt.savefig('foo.png')"
   ]
  },
  {
   "cell_type": "code",
   "execution_count": null,
   "metadata": {
    "collapsed": true
   },
   "outputs": [],
   "source": []
  },
  {
   "cell_type": "code",
   "execution_count": null,
   "metadata": {
    "collapsed": true
   },
   "outputs": [],
   "source": []
  }
 ],
 "metadata": {
  "kernelspec": {
   "display_name": "Python 2",
   "language": "python",
   "name": "python2"
  },
  "language_info": {
   "codemirror_mode": {
    "name": "ipython",
    "version": 2
   },
   "file_extension": ".py",
   "mimetype": "text/x-python",
   "name": "python",
   "nbconvert_exporter": "python",
   "pygments_lexer": "ipython2",
   "version": "2.7.14"
  }
 },
 "nbformat": 4,
 "nbformat_minor": 2
}
