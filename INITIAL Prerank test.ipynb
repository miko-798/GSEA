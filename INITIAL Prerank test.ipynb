{
 "cells": [
  {
   "cell_type": "code",
   "execution_count": 21,
   "metadata": {
    "collapsed": true
   },
   "outputs": [],
   "source": [
    "import pandas as pd\n",
    "import gseapy as gp\n",
    "\n",
    "gmt_file = '/Users/Miko/Desktop/CCBB/Network/geneset.gmt'\n",
    "csv_file = '/Users/Miko/Desktop/CCBB/Network/DE_ALCvsCHOWinNTinAlbCre_30_Liver.csv'\n",
    "output_dir = '/Users/Miko/Desktop/CCBB/Network/ssgsea_weight=1.5'\n"
   ]
  },
  {
   "cell_type": "markdown",
   "metadata": {},
   "source": [
    "### Read in csv file"
   ]
  },
  {
   "cell_type": "code",
   "execution_count": 2,
   "metadata": {
    "scrolled": true
   },
   "outputs": [
    {
     "data": {
      "text/html": [
       "<div>\n",
       "<style scoped>\n",
       "    .dataframe tbody tr th:only-of-type {\n",
       "        vertical-align: middle;\n",
       "    }\n",
       "\n",
       "    .dataframe tbody tr th {\n",
       "        vertical-align: top;\n",
       "    }\n",
       "\n",
       "    .dataframe thead th {\n",
       "        text-align: right;\n",
       "    }\n",
       "</style>\n",
       "<table border=\"1\" class=\"dataframe\">\n",
       "  <thead>\n",
       "    <tr style=\"text-align: right;\">\n",
       "      <th></th>\n",
       "      <th>Unnamed: 0</th>\n",
       "      <th>ENSEMBL</th>\n",
       "      <th>ENTREZID</th>\n",
       "      <th>SYMBOL</th>\n",
       "      <th>logFC</th>\n",
       "      <th>AveExpr</th>\n",
       "      <th>t</th>\n",
       "      <th>P.Value</th>\n",
       "      <th>adj.P.Val</th>\n",
       "      <th>B</th>\n",
       "    </tr>\n",
       "  </thead>\n",
       "  <tbody>\n",
       "    <tr>\n",
       "      <th>0</th>\n",
       "      <td>ENSMUSG00000020572</td>\n",
       "      <td>ENSMUSG00000020572</td>\n",
       "      <td>59027.0</td>\n",
       "      <td>Nampt</td>\n",
       "      <td>1.125802</td>\n",
       "      <td>6.422679</td>\n",
       "      <td>9.234130</td>\n",
       "      <td>2.848587e-07</td>\n",
       "      <td>0.002271</td>\n",
       "      <td>7.163066</td>\n",
       "    </tr>\n",
       "    <tr>\n",
       "      <th>1</th>\n",
       "      <td>ENSMUSG00000039157</td>\n",
       "      <td>ENSMUSG00000039157</td>\n",
       "      <td>98952.0</td>\n",
       "      <td>Fam102a</td>\n",
       "      <td>1.246930</td>\n",
       "      <td>5.079990</td>\n",
       "      <td>8.650189</td>\n",
       "      <td>6.184195e-07</td>\n",
       "      <td>0.002271</td>\n",
       "      <td>6.391317</td>\n",
       "    </tr>\n",
       "    <tr>\n",
       "      <th>2</th>\n",
       "      <td>ENSMUSG00000025277</td>\n",
       "      <td>ENSMUSG00000025277</td>\n",
       "      <td>66082.0</td>\n",
       "      <td>Abhd6</td>\n",
       "      <td>0.926458</td>\n",
       "      <td>5.173920</td>\n",
       "      <td>8.577569</td>\n",
       "      <td>6.827854e-07</td>\n",
       "      <td>0.002271</td>\n",
       "      <td>6.312529</td>\n",
       "    </tr>\n",
       "    <tr>\n",
       "      <th>3</th>\n",
       "      <td>ENSMUSG00000028327</td>\n",
       "      <td>ENSMUSG00000028327</td>\n",
       "      <td>74152.0</td>\n",
       "      <td>Stra6l</td>\n",
       "      <td>-0.944380</td>\n",
       "      <td>7.534265</td>\n",
       "      <td>-8.528602</td>\n",
       "      <td>7.301721e-07</td>\n",
       "      <td>0.002271</td>\n",
       "      <td>6.280035</td>\n",
       "    </tr>\n",
       "    <tr>\n",
       "      <th>4</th>\n",
       "      <td>ENSMUSG00000059743</td>\n",
       "      <td>ENSMUSG00000059743</td>\n",
       "      <td>110196.0</td>\n",
       "      <td>Fdps</td>\n",
       "      <td>-2.847604</td>\n",
       "      <td>6.298790</td>\n",
       "      <td>-8.342241</td>\n",
       "      <td>9.449679e-07</td>\n",
       "      <td>0.002271</td>\n",
       "      <td>6.023082</td>\n",
       "    </tr>\n",
       "  </tbody>\n",
       "</table>\n",
       "</div>"
      ],
      "text/plain": [
       "           Unnamed: 0             ENSEMBL  ENTREZID   SYMBOL     logFC  \\\n",
       "0  ENSMUSG00000020572  ENSMUSG00000020572   59027.0    Nampt  1.125802   \n",
       "1  ENSMUSG00000039157  ENSMUSG00000039157   98952.0  Fam102a  1.246930   \n",
       "2  ENSMUSG00000025277  ENSMUSG00000025277   66082.0    Abhd6  0.926458   \n",
       "3  ENSMUSG00000028327  ENSMUSG00000028327   74152.0   Stra6l -0.944380   \n",
       "4  ENSMUSG00000059743  ENSMUSG00000059743  110196.0     Fdps -2.847604   \n",
       "\n",
       "    AveExpr         t       P.Value  adj.P.Val         B  \n",
       "0  6.422679  9.234130  2.848587e-07   0.002271  7.163066  \n",
       "1  5.079990  8.650189  6.184195e-07   0.002271  6.391317  \n",
       "2  5.173920  8.577569  6.827854e-07   0.002271  6.312529  \n",
       "3  7.534265 -8.528602  7.301721e-07   0.002271  6.280035  \n",
       "4  6.298790 -8.342241  9.449679e-07   0.002271  6.023082  "
      ]
     },
     "execution_count": 2,
     "metadata": {},
     "output_type": "execute_result"
    }
   ],
   "source": [
    "# read in csv file\n",
    "DE_df = pd.read_csv(csv_file)\n",
    "DE_df.head()"
   ]
  },
  {
   "cell_type": "markdown",
   "metadata": {},
   "source": [
    "### Get column (yield a series)"
   ]
  },
  {
   "cell_type": "code",
   "execution_count": 3,
   "metadata": {
    "scrolled": false
   },
   "outputs": [
    {
     "data": {
      "text/plain": [
       "0    1.125802\n",
       "1    1.246930\n",
       "2    0.926458\n",
       "3   -0.944380\n",
       "4   -2.847604\n",
       "Name: logFC, dtype: float64"
      ]
     },
     "execution_count": 3,
     "metadata": {},
     "output_type": "execute_result"
    }
   ],
   "source": [
    "DE_df['logFC'].head()"
   ]
  },
  {
   "cell_type": "markdown",
   "metadata": {},
   "source": [
    "### Set the symbols as indices"
   ]
  },
  {
   "cell_type": "code",
   "execution_count": 4,
   "metadata": {},
   "outputs": [
    {
     "data": {
      "text/html": [
       "<div>\n",
       "<style scoped>\n",
       "    .dataframe tbody tr th:only-of-type {\n",
       "        vertical-align: middle;\n",
       "    }\n",
       "\n",
       "    .dataframe tbody tr th {\n",
       "        vertical-align: top;\n",
       "    }\n",
       "\n",
       "    .dataframe thead th {\n",
       "        text-align: right;\n",
       "    }\n",
       "</style>\n",
       "<table border=\"1\" class=\"dataframe\">\n",
       "  <thead>\n",
       "    <tr style=\"text-align: right;\">\n",
       "      <th></th>\n",
       "      <th>Unnamed: 0</th>\n",
       "      <th>ENSEMBL</th>\n",
       "      <th>ENTREZID</th>\n",
       "      <th>SYMBOL</th>\n",
       "      <th>logFC</th>\n",
       "      <th>AveExpr</th>\n",
       "      <th>t</th>\n",
       "      <th>P.Value</th>\n",
       "      <th>adj.P.Val</th>\n",
       "      <th>B</th>\n",
       "    </tr>\n",
       "  </thead>\n",
       "  <tbody>\n",
       "    <tr>\n",
       "      <th>Nampt</th>\n",
       "      <td>ENSMUSG00000020572</td>\n",
       "      <td>ENSMUSG00000020572</td>\n",
       "      <td>59027.0</td>\n",
       "      <td>Nampt</td>\n",
       "      <td>1.125802</td>\n",
       "      <td>6.422679</td>\n",
       "      <td>9.234130</td>\n",
       "      <td>2.848587e-07</td>\n",
       "      <td>0.002271</td>\n",
       "      <td>7.163066</td>\n",
       "    </tr>\n",
       "    <tr>\n",
       "      <th>Fam102a</th>\n",
       "      <td>ENSMUSG00000039157</td>\n",
       "      <td>ENSMUSG00000039157</td>\n",
       "      <td>98952.0</td>\n",
       "      <td>Fam102a</td>\n",
       "      <td>1.246930</td>\n",
       "      <td>5.079990</td>\n",
       "      <td>8.650189</td>\n",
       "      <td>6.184195e-07</td>\n",
       "      <td>0.002271</td>\n",
       "      <td>6.391317</td>\n",
       "    </tr>\n",
       "    <tr>\n",
       "      <th>Abhd6</th>\n",
       "      <td>ENSMUSG00000025277</td>\n",
       "      <td>ENSMUSG00000025277</td>\n",
       "      <td>66082.0</td>\n",
       "      <td>Abhd6</td>\n",
       "      <td>0.926458</td>\n",
       "      <td>5.173920</td>\n",
       "      <td>8.577569</td>\n",
       "      <td>6.827854e-07</td>\n",
       "      <td>0.002271</td>\n",
       "      <td>6.312529</td>\n",
       "    </tr>\n",
       "    <tr>\n",
       "      <th>Stra6l</th>\n",
       "      <td>ENSMUSG00000028327</td>\n",
       "      <td>ENSMUSG00000028327</td>\n",
       "      <td>74152.0</td>\n",
       "      <td>Stra6l</td>\n",
       "      <td>-0.944380</td>\n",
       "      <td>7.534265</td>\n",
       "      <td>-8.528602</td>\n",
       "      <td>7.301721e-07</td>\n",
       "      <td>0.002271</td>\n",
       "      <td>6.280035</td>\n",
       "    </tr>\n",
       "    <tr>\n",
       "      <th>Fdps</th>\n",
       "      <td>ENSMUSG00000059743</td>\n",
       "      <td>ENSMUSG00000059743</td>\n",
       "      <td>110196.0</td>\n",
       "      <td>Fdps</td>\n",
       "      <td>-2.847604</td>\n",
       "      <td>6.298790</td>\n",
       "      <td>-8.342241</td>\n",
       "      <td>9.449679e-07</td>\n",
       "      <td>0.002271</td>\n",
       "      <td>6.023082</td>\n",
       "    </tr>\n",
       "  </tbody>\n",
       "</table>\n",
       "</div>"
      ],
      "text/plain": [
       "                 Unnamed: 0             ENSEMBL  ENTREZID   SYMBOL     logFC  \\\n",
       "Nampt    ENSMUSG00000020572  ENSMUSG00000020572   59027.0    Nampt  1.125802   \n",
       "Fam102a  ENSMUSG00000039157  ENSMUSG00000039157   98952.0  Fam102a  1.246930   \n",
       "Abhd6    ENSMUSG00000025277  ENSMUSG00000025277   66082.0    Abhd6  0.926458   \n",
       "Stra6l   ENSMUSG00000028327  ENSMUSG00000028327   74152.0   Stra6l -0.944380   \n",
       "Fdps     ENSMUSG00000059743  ENSMUSG00000059743  110196.0     Fdps -2.847604   \n",
       "\n",
       "          AveExpr         t       P.Value  adj.P.Val         B  \n",
       "Nampt    6.422679  9.234130  2.848587e-07   0.002271  7.163066  \n",
       "Fam102a  5.079990  8.650189  6.184195e-07   0.002271  6.391317  \n",
       "Abhd6    5.173920  8.577569  6.827854e-07   0.002271  6.312529  \n",
       "Stra6l   7.534265 -8.528602  7.301721e-07   0.002271  6.280035  \n",
       "Fdps     6.298790 -8.342241  9.449679e-07   0.002271  6.023082  "
      ]
     },
     "execution_count": 4,
     "metadata": {},
     "output_type": "execute_result"
    }
   ],
   "source": [
    "DE_df.index = DE_df['SYMBOL'].tolist() # convert the series to a list\n",
    "DE_df.head()"
   ]
  },
  {
   "cell_type": "markdown",
   "metadata": {},
   "source": [
    "### Get row"
   ]
  },
  {
   "cell_type": "code",
   "execution_count": 5,
   "metadata": {},
   "outputs": [
    {
     "data": {
      "text/plain": [
       "Unnamed: 0    ENSMUSG00000059743\n",
       "ENSEMBL       ENSMUSG00000059743\n",
       "ENTREZID                  110196\n",
       "SYMBOL                      Fdps\n",
       "logFC                    -2.8476\n",
       "AveExpr                  6.29879\n",
       "t                       -8.34224\n",
       "P.Value              9.44968e-07\n",
       "adj.P.Val             0.00227149\n",
       "B                        6.02308\n",
       "Name: Fdps, dtype: object"
      ]
     },
     "execution_count": 5,
     "metadata": {},
     "output_type": "execute_result"
    }
   ],
   "source": [
    "DE_df.loc['Fdps']"
   ]
  },
  {
   "cell_type": "markdown",
   "metadata": {},
   "source": [
    "### Extract a sub dataframe rank_df from DE_df"
   ]
  },
  {
   "cell_type": "code",
   "execution_count": 6,
   "metadata": {},
   "outputs": [
    {
     "data": {
      "text/html": [
       "<div>\n",
       "<style scoped>\n",
       "    .dataframe tbody tr th:only-of-type {\n",
       "        vertical-align: middle;\n",
       "    }\n",
       "\n",
       "    .dataframe tbody tr th {\n",
       "        vertical-align: top;\n",
       "    }\n",
       "\n",
       "    .dataframe thead th {\n",
       "        text-align: right;\n",
       "    }\n",
       "</style>\n",
       "<table border=\"1\" class=\"dataframe\">\n",
       "  <thead>\n",
       "    <tr style=\"text-align: right;\">\n",
       "      <th></th>\n",
       "      <th>SYMBOL</th>\n",
       "      <th>logFC</th>\n",
       "    </tr>\n",
       "  </thead>\n",
       "  <tbody>\n",
       "    <tr>\n",
       "      <th>Nampt</th>\n",
       "      <td>Nampt</td>\n",
       "      <td>1.125802</td>\n",
       "    </tr>\n",
       "    <tr>\n",
       "      <th>Fam102a</th>\n",
       "      <td>Fam102a</td>\n",
       "      <td>1.246930</td>\n",
       "    </tr>\n",
       "    <tr>\n",
       "      <th>Abhd6</th>\n",
       "      <td>Abhd6</td>\n",
       "      <td>0.926458</td>\n",
       "    </tr>\n",
       "    <tr>\n",
       "      <th>Stra6l</th>\n",
       "      <td>Stra6l</td>\n",
       "      <td>-0.944380</td>\n",
       "    </tr>\n",
       "    <tr>\n",
       "      <th>Fdps</th>\n",
       "      <td>Fdps</td>\n",
       "      <td>-2.847604</td>\n",
       "    </tr>\n",
       "  </tbody>\n",
       "</table>\n",
       "</div>"
      ],
      "text/plain": [
       "          SYMBOL     logFC\n",
       "Nampt      Nampt  1.125802\n",
       "Fam102a  Fam102a  1.246930\n",
       "Abhd6      Abhd6  0.926458\n",
       "Stra6l    Stra6l -0.944380\n",
       "Fdps        Fdps -2.847604"
      ]
     },
     "execution_count": 6,
     "metadata": {},
     "output_type": "execute_result"
    }
   ],
   "source": [
    "rank_df = DE_df[['SYMBOL','logFC']]\n",
    "rank_df.head()"
   ]
  },
  {
   "cell_type": "code",
   "execution_count": 7,
   "metadata": {},
   "outputs": [
    {
     "data": {
      "text/html": [
       "<div>\n",
       "<style scoped>\n",
       "    .dataframe tbody tr th:only-of-type {\n",
       "        vertical-align: middle;\n",
       "    }\n",
       "\n",
       "    .dataframe tbody tr th {\n",
       "        vertical-align: top;\n",
       "    }\n",
       "\n",
       "    .dataframe thead th {\n",
       "        text-align: right;\n",
       "    }\n",
       "</style>\n",
       "<table border=\"1\" class=\"dataframe\">\n",
       "  <thead>\n",
       "    <tr style=\"text-align: right;\">\n",
       "      <th></th>\n",
       "      <th>SYMBOL</th>\n",
       "      <th>logFC</th>\n",
       "    </tr>\n",
       "  </thead>\n",
       "  <tbody>\n",
       "    <tr>\n",
       "      <th>NaN</th>\n",
       "      <td>NaN</td>\n",
       "      <td>-4.984858</td>\n",
       "    </tr>\n",
       "    <tr>\n",
       "      <th>NaN</th>\n",
       "      <td>NaN</td>\n",
       "      <td>-4.678138</td>\n",
       "    </tr>\n",
       "    <tr>\n",
       "      <th>Chrna4</th>\n",
       "      <td>Chrna4</td>\n",
       "      <td>-4.580266</td>\n",
       "    </tr>\n",
       "    <tr>\n",
       "      <th>NaN</th>\n",
       "      <td>NaN</td>\n",
       "      <td>-3.993394</td>\n",
       "    </tr>\n",
       "    <tr>\n",
       "      <th>Hist1h4n</th>\n",
       "      <td>Hist1h4n</td>\n",
       "      <td>-3.742476</td>\n",
       "    </tr>\n",
       "  </tbody>\n",
       "</table>\n",
       "</div>"
      ],
      "text/plain": [
       "            SYMBOL     logFC\n",
       "NaN            NaN -4.984858\n",
       "NaN            NaN -4.678138\n",
       "Chrna4      Chrna4 -4.580266\n",
       "NaN            NaN -3.993394\n",
       "Hist1h4n  Hist1h4n -3.742476"
      ]
     },
     "execution_count": 7,
     "metadata": {},
     "output_type": "execute_result"
    }
   ],
   "source": [
    "rank_df = rank_df.sort_values('logFC')\n",
    "rank_df.head()"
   ]
  },
  {
   "cell_type": "code",
   "execution_count": 8,
   "metadata": {},
   "outputs": [
    {
     "data": {
      "text/html": [
       "<div>\n",
       "<style scoped>\n",
       "    .dataframe tbody tr th:only-of-type {\n",
       "        vertical-align: middle;\n",
       "    }\n",
       "\n",
       "    .dataframe tbody tr th {\n",
       "        vertical-align: top;\n",
       "    }\n",
       "\n",
       "    .dataframe thead th {\n",
       "        text-align: right;\n",
       "    }\n",
       "</style>\n",
       "<table border=\"1\" class=\"dataframe\">\n",
       "  <thead>\n",
       "    <tr style=\"text-align: right;\">\n",
       "      <th></th>\n",
       "      <th>SYMBOL</th>\n",
       "      <th>logFC</th>\n",
       "    </tr>\n",
       "  </thead>\n",
       "  <tbody>\n",
       "    <tr>\n",
       "      <th>Chrna4</th>\n",
       "      <td>Chrna4</td>\n",
       "      <td>-4.580266</td>\n",
       "    </tr>\n",
       "    <tr>\n",
       "      <th>Hist1h4n</th>\n",
       "      <td>Hist1h4n</td>\n",
       "      <td>-3.742476</td>\n",
       "    </tr>\n",
       "    <tr>\n",
       "      <th>Gm14434</th>\n",
       "      <td>Gm14434</td>\n",
       "      <td>-3.676823</td>\n",
       "    </tr>\n",
       "    <tr>\n",
       "      <th>Idi1</th>\n",
       "      <td>Idi1</td>\n",
       "      <td>-3.316795</td>\n",
       "    </tr>\n",
       "    <tr>\n",
       "      <th>Zfp968</th>\n",
       "      <td>Zfp968</td>\n",
       "      <td>-3.223627</td>\n",
       "    </tr>\n",
       "  </tbody>\n",
       "</table>\n",
       "</div>"
      ],
      "text/plain": [
       "            SYMBOL     logFC\n",
       "Chrna4      Chrna4 -4.580266\n",
       "Hist1h4n  Hist1h4n -3.742476\n",
       "Gm14434    Gm14434 -3.676823\n",
       "Idi1          Idi1 -3.316795\n",
       "Zfp968      Zfp968 -3.223627"
      ]
     },
     "execution_count": 8,
     "metadata": {},
     "output_type": "execute_result"
    }
   ],
   "source": [
    "rank_df = rank_df.dropna()\n",
    "rank_df.head()"
   ]
  },
  {
   "cell_type": "markdown",
   "metadata": {},
   "source": [
    "### Turn the indices back to numbers in rank_df"
   ]
  },
  {
   "cell_type": "code",
   "execution_count": 9,
   "metadata": {},
   "outputs": [
    {
     "data": {
      "text/html": [
       "<div>\n",
       "<style scoped>\n",
       "    .dataframe tbody tr th:only-of-type {\n",
       "        vertical-align: middle;\n",
       "    }\n",
       "\n",
       "    .dataframe tbody tr th {\n",
       "        vertical-align: top;\n",
       "    }\n",
       "\n",
       "    .dataframe thead th {\n",
       "        text-align: right;\n",
       "    }\n",
       "</style>\n",
       "<table border=\"1\" class=\"dataframe\">\n",
       "  <thead>\n",
       "    <tr style=\"text-align: right;\">\n",
       "      <th></th>\n",
       "      <th>SYMBOL</th>\n",
       "      <th>logFC</th>\n",
       "    </tr>\n",
       "  </thead>\n",
       "  <tbody>\n",
       "    <tr>\n",
       "      <th>0</th>\n",
       "      <td>Chrna4</td>\n",
       "      <td>-4.580266</td>\n",
       "    </tr>\n",
       "    <tr>\n",
       "      <th>1</th>\n",
       "      <td>Hist1h4n</td>\n",
       "      <td>-3.742476</td>\n",
       "    </tr>\n",
       "    <tr>\n",
       "      <th>2</th>\n",
       "      <td>Gm14434</td>\n",
       "      <td>-3.676823</td>\n",
       "    </tr>\n",
       "    <tr>\n",
       "      <th>3</th>\n",
       "      <td>Idi1</td>\n",
       "      <td>-3.316795</td>\n",
       "    </tr>\n",
       "    <tr>\n",
       "      <th>4</th>\n",
       "      <td>Zfp968</td>\n",
       "      <td>-3.223627</td>\n",
       "    </tr>\n",
       "  </tbody>\n",
       "</table>\n",
       "</div>"
      ],
      "text/plain": [
       "     SYMBOL     logFC\n",
       "0    Chrna4 -4.580266\n",
       "1  Hist1h4n -3.742476\n",
       "2   Gm14434 -3.676823\n",
       "3      Idi1 -3.316795\n",
       "4    Zfp968 -3.223627"
      ]
     },
     "execution_count": 9,
     "metadata": {},
     "output_type": "execute_result"
    }
   ],
   "source": [
    "rank_df.index = range(len(rank_df))  # get number of rows in rank_df\n",
    "rank_df.head()"
   ]
  },
  {
   "cell_type": "code",
   "execution_count": 10,
   "metadata": {},
   "outputs": [
    {
     "data": {
      "text/plain": [
       "['CHRNA4', 'HIST1H4N', 'GM14434', 'IDI1', 'ZFP968']"
      ]
     },
     "execution_count": 10,
     "metadata": {},
     "output_type": "execute_result"
    }
   ],
   "source": [
    "# list conprehension: set symbols to UPPER CASE \n",
    "UC_symbols = [gene.upper() for gene in rank_df['SYMBOL'].tolist()]  # cast to a list\n",
    "UC_symbols[0:5]\n"
   ]
  },
  {
   "cell_type": "code",
   "execution_count": 11,
   "metadata": {},
   "outputs": [
    {
     "data": {
      "text/html": [
       "<div>\n",
       "<style scoped>\n",
       "    .dataframe tbody tr th:only-of-type {\n",
       "        vertical-align: middle;\n",
       "    }\n",
       "\n",
       "    .dataframe tbody tr th {\n",
       "        vertical-align: top;\n",
       "    }\n",
       "\n",
       "    .dataframe thead th {\n",
       "        text-align: right;\n",
       "    }\n",
       "</style>\n",
       "<table border=\"1\" class=\"dataframe\">\n",
       "  <thead>\n",
       "    <tr style=\"text-align: right;\">\n",
       "      <th></th>\n",
       "      <th>SYMBOL</th>\n",
       "      <th>logFC</th>\n",
       "    </tr>\n",
       "  </thead>\n",
       "  <tbody>\n",
       "    <tr>\n",
       "      <th>0</th>\n",
       "      <td>CHRNA4</td>\n",
       "      <td>-4.580266</td>\n",
       "    </tr>\n",
       "    <tr>\n",
       "      <th>1</th>\n",
       "      <td>HIST1H4N</td>\n",
       "      <td>-3.742476</td>\n",
       "    </tr>\n",
       "    <tr>\n",
       "      <th>2</th>\n",
       "      <td>GM14434</td>\n",
       "      <td>-3.676823</td>\n",
       "    </tr>\n",
       "    <tr>\n",
       "      <th>3</th>\n",
       "      <td>IDI1</td>\n",
       "      <td>-3.316795</td>\n",
       "    </tr>\n",
       "    <tr>\n",
       "      <th>4</th>\n",
       "      <td>ZFP968</td>\n",
       "      <td>-3.223627</td>\n",
       "    </tr>\n",
       "  </tbody>\n",
       "</table>\n",
       "</div>"
      ],
      "text/plain": [
       "     SYMBOL     logFC\n",
       "0    CHRNA4 -4.580266\n",
       "1  HIST1H4N -3.742476\n",
       "2   GM14434 -3.676823\n",
       "3      IDI1 -3.316795\n",
       "4    ZFP968 -3.223627"
      ]
     },
     "execution_count": 11,
     "metadata": {},
     "output_type": "execute_result"
    }
   ],
   "source": [
    "rank_df['SYMBOL'] = UC_symbols\n",
    "rank_df.head()"
   ]
  },
  {
   "cell_type": "code",
   "execution_count": 14,
   "metadata": {
    "scrolled": true
   },
   "outputs": [
    {
     "name": "stderr",
     "output_type": "stream",
     "text": [
      "2018-01-30 10:23:27,753 Input gene rankings contains duplicated IDs, Only use the duplicated ID with highest value!\n"
     ]
    }
   ],
   "source": [
    "pre_res = gp.prerank(rnk=rank_df,\n",
    "                     gene_sets=gmt_file,\n",
    "                     permutation_num=100, # reduce number to speed up test\n",
    "                     weighted_score_type=0, # default was 1\n",
    "                     outdir=output_dir,\n",
    "                     format='png')"
   ]
  },
  {
   "cell_type": "code",
   "execution_count": 19,
   "metadata": {},
   "outputs": [
    {
     "name": "stdout",
     "output_type": "stream",
     "text": [
      "<gseapy.gsea.Prerank object at 0x10c7c6a10>\n"
     ]
    }
   ],
   "source": [
    "print(pre_res)"
   ]
  },
  {
   "cell_type": "code",
   "execution_count": 22,
   "metadata": {},
   "outputs": [
    {
     "name": "stderr",
     "output_type": "stream",
     "text": [
      "2018-01-30 16:29:24,468 Warning: dropping duplicated gene names, only keep the first values\n"
     ]
    }
   ],
   "source": [
    "ssgsea_1 = gp.ssgsea(data=rank_df,\n",
    "                     gene_sets=gmt_file,\n",
    "                     weighted_score_type=1.5, # default was 0.25\n",
    "                     outdir=output_dir,\n",
    "                     format='png')"
   ]
  },
  {
   "cell_type": "code",
   "execution_count": null,
   "metadata": {
    "collapsed": true
   },
   "outputs": [],
   "source": []
  }
 ],
 "metadata": {
  "kernelspec": {
   "display_name": "Python 2",
   "language": "python",
   "name": "python2"
  },
  "language_info": {
   "codemirror_mode": {
    "name": "ipython",
    "version": 2
   },
   "file_extension": ".py",
   "mimetype": "text/x-python",
   "name": "python",
   "nbconvert_exporter": "python",
   "pygments_lexer": "ipython2",
   "version": "2.7.14"
  }
 },
 "nbformat": 4,
 "nbformat_minor": 2
}
